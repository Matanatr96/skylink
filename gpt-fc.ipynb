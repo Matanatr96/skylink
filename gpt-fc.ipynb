{
 "cells": [
  {
   "cell_type": "code",
   "execution_count": 1,
   "outputs": [],
   "source": [
    "import os\n",
    "import json\n",
    "import logging \n",
    "\n",
    "import openai\n",
    "from dotenv import load_dotenv\n",
    "import DuffelManager\n",
    "\n",
    "load_dotenv(\".env\")\n",
    "openai.api_key = os.getenv(\"OPENAI_API_KEY\")\n",
    "logging.basicConfig(level=logging.INFO, format='%(asctime)s - %(name)s - %(levelname)s - %(message)s')"
   ],
   "metadata": {
    "collapsed": false,
    "ExecuteTime": {
     "end_time": "2023-11-10T22:51:58.012363Z",
     "start_time": "2023-11-10T22:51:57.512688Z"
    }
   },
   "id": "3b0491a6ba12f413"
  },
  {
   "cell_type": "code",
   "execution_count": 2,
   "outputs": [],
   "source": [
    "functions =  [\n",
    "  {\n",
    "    \"name\": \"book_best_flight\",\n",
    "    \"description\": \"Will return confirmation for a flight booked given a departure city, arrival city, departure date\",\n",
    "    \"parameters\": {\n",
    "      \"type\": \"object\",\n",
    "      \"properties\": {\n",
    "        \"departure_city\": {\n",
    "          \"type\": \"string\",\n",
    "          \"description\": \"The 3 letter IATA code for the airport in the city of departure e.g. JFK, LHR, CDG\"\n",
    "        },\n",
    "        \"destination_city\": {\n",
    "          \"type\": \"string\",\n",
    "          \"description\": \"The 3 letter IATA code for the airport in the city of arrival e.g. JFK, LHR, CDG\"\n",
    "        },\n",
    "        \"departure_date\": {\n",
    "          \"type\": \"string\",\n",
    "          \"description\": \"The date of departure in the format YYYY-MM-DD\"\n",
    "        },\n",
    "        \"time_of_day\": {\n",
    "          \"type\": \"string\",\n",
    "          \"enum\": [\"morning\", \"afternoon\", \"evening\", \"night\"]\n",
    "        },\n",
    "        \"airline_name\": {\n",
    "          \"type\": \"string\",\n",
    "          \"description\": \"The 2 letter IATA code for the airline the user would like to fly in e.g. DL, UA, AA\"\n",
    "        },\n",
    "        \"cabin_class\": {\n",
    "          \"type\": \"string\",\n",
    "          \"enum\": [\"first\", \"business\", \"premium_economy\", \"economy\"]\n",
    "        },\n",
    "      },\n",
    "      \"required\": [\"departure_city\", \"destination_city\", \"departure_date\"]\n",
    "    }\n",
    "  },\n",
    "  {\n",
    "    \"name\": \"get_absolute_date\",\n",
    "    \"description\": \"Converts relative dates to absolute dates (only use if you can't convert the query into a date on your own)\",\n",
    "    \"parameters\": {\n",
    "      \"type\": \"object\",\n",
    "      \"properties\": {\n",
    "        \"relative_date\": {\n",
    "          \"type\": \"string\",\n",
    "          \"description\": \"The relative date to convert e.g. tomorrow, next week, next month\"\n",
    "        }\n",
    "      },\n",
    "      \"required\": [\"relative_date\"]\n",
    "    }\n",
    "  }\n",
    "]"
   ],
   "metadata": {
    "collapsed": false,
    "ExecuteTime": {
     "end_time": "2023-11-10T22:51:59.979785800Z",
     "start_time": "2023-11-10T22:51:59.976270700Z"
    }
   },
   "id": "35330ac014336f89"
  },
  {
   "cell_type": "code",
   "execution_count": 10,
   "outputs": [],
   "source": [
    "messages = [\n",
    "  {\"role\": \"system\", \"content\": \"You're a friendly flight booking assistant. You will be given a user query. Do your best to parse the user's request and respond accordingly. If the user hasn't given you enough information to make a function call, ask them for clarification\"}\n",
    "]"
   ],
   "metadata": {
    "collapsed": false,
    "ExecuteTime": {
     "end_time": "2023-11-10T22:57:12.034224100Z",
     "start_time": "2023-11-10T22:57:12.029218100Z"
    }
   },
   "id": "a0b806c710c8ab87"
  },
  {
   "cell_type": "code",
   "execution_count": 11,
   "outputs": [],
   "source": [
    "def call_gpt(chat_history: list[dict]):\n",
    "  return openai.chat.completions.create(\n",
    "    model=\"gpt-4-1106-preview\",\n",
    "    messages=chat_history,\n",
    "    functions=functions,\n",
    "    function_call=\"auto\"\n",
    "  )\n",
    "\n",
    "def user_interaction(query: str): \n",
    "  reason = \"function_call\"\n",
    "  messages.append({\"role\": \"user\", \"content\": query})\n",
    "  \n",
    "  #allows gpt to continue calling functions until it's ready to return to the user\n",
    "  while reason == \"function_call\":\n",
    "    response = call_gpt(messages)\n",
    "    logging.info(f\"response: {response}\")\n",
    "    reason = response.choices[0].finish_reason\n",
    "    if reason == \"function_call\":\n",
    "      kwargs = json.loads(response.choices[0].message.function_call.arguments)\n",
    "      function_to_call = getattr(DuffelManager, response.choices[0].message.function_call.name)\n",
    "      messages.append({\"role\": \"assistant\", \"content\": \"sure i'm happy to help\"})\n",
    "      logging.info(f\"making {function_to_call.__name__} call with arguments: {kwargs}\")\n",
    "      \n",
    "      #make the function call and add response to messages\n",
    "      response_obj = function_to_call(**kwargs)\n",
    "      if response_obj.success:\n",
    "        messages.append({\"role\": \"function\", \"content\": str(response_obj.resp), \"name\": function_to_call.__name__})\n",
    "      else:\n",
    "        messages.append({\"role\": \"function\", \"content\": str(response_obj.error), \"name\": function_to_call.__name__})\n",
    "    else: # ready to return to user\n",
    "      messages.append({\"role\": \"assistant\", \"content\": response.choices[0].message.content})\n",
    "      return messages[-1][\"content\"]"
   ],
   "metadata": {
    "collapsed": false,
    "ExecuteTime": {
     "end_time": "2023-11-10T22:57:12.283842800Z",
     "start_time": "2023-11-10T22:57:12.280064700Z"
    }
   },
   "id": "89dfec24bbfd7a68"
  },
  {
   "cell_type": "code",
   "execution_count": 12,
   "outputs": [
    {
     "data": {
      "text/plain": "[{'role': 'system',\n  'content': \"You're a friendly flight booking assistant. You will be given a user query. Do your best to parse the user's request and respond accordingly. If the user hasn't given you enough information to make a function call, ask them for clarification\"}]"
     },
     "execution_count": 12,
     "metadata": {},
     "output_type": "execute_result"
    }
   ],
   "source": [
    "messages"
   ],
   "metadata": {
    "collapsed": false,
    "ExecuteTime": {
     "end_time": "2023-11-10T22:57:12.627346800Z",
     "start_time": "2023-11-10T22:57:12.620832400Z"
    }
   },
   "id": "5a156c055d26a581"
  },
  {
   "cell_type": "code",
   "execution_count": 13,
   "outputs": [
    {
     "name": "stderr",
     "output_type": "stream",
     "text": [
      "2023-11-10 17:57:14,186 - httpx - INFO - HTTP Request: POST https://api.openai.com/v1/chat/completions \"HTTP/1.1 200 OK\"\n",
      "2023-11-10 17:57:14,187 - root - INFO - response: ChatCompletion(id='chatcmpl-8JUj3J5y5whxq4xj8WGW5hYE1ZSTW', choices=[Choice(finish_reason='function_call', index=0, message=ChatCompletionMessage(content=None, role='assistant', function_call=FunctionCall(arguments='{\"relative_date\":\"tomorrow\"}', name='get_absolute_date'), tool_calls=None))], created=1699657033, model='gpt-4-1106-preview', object='chat.completion', system_fingerprint='fp_a24b4d720c', usage=CompletionUsage(completion_tokens=17, prompt_tokens=335, total_tokens=352))\n",
      "2023-11-10 17:57:14,188 - root - INFO - making get_absolute_date call with arguments: {'relative_date': 'tomorrow'}\n",
      "2023-11-10 17:57:15,613 - httpx - INFO - HTTP Request: POST https://api.openai.com/v1/chat/completions \"HTTP/1.1 200 OK\"\n",
      "2023-11-10 17:57:15,615 - root - INFO - response: ChatCompletion(id='chatcmpl-8JUj4ti0qfWY4MpxJ2pOGj9nOgKgq', choices=[Choice(finish_reason='function_call', index=0, message=ChatCompletionMessage(content=None, role='assistant', function_call=FunctionCall(arguments='{\"departure_city\":\"JFK\",\"destination_city\":\"SFO\",\"departure_date\":\"2023-11-11\",\"time_of_day\":\"morning\"}', name='book_best_flight'), tool_calls=None))], created=1699657034, model='gpt-4-1106-preview', object='chat.completion', system_fingerprint='fp_a24b4d720c', usage=CompletionUsage(completion_tokens=40, prompt_tokens=357, total_tokens=397))\n",
      "2023-11-10 17:57:15,615 - root - INFO - making book_best_flight call with arguments: {'departure_city': 'JFK', 'destination_city': 'SFO', 'departure_date': '2023-11-11', 'time_of_day': 'morning'}\n",
      "2023-11-10 17:57:15,616 - root - INFO - Getting offer for departure_city: JFK, destination_city: SFO, departure_date: 2023-11-11, time_of_day: morning, airline: None, cabin_class: None\n",
      "2023-11-10 17:57:15,616 - root - INFO - Calling Duffel API\n",
      "2023-11-10 17:57:34,428 - root - INFO - Getting best offer from 79 offers\n",
      "2023-11-10 17:57:34,429 - root - INFO - Filtering for morning flights\n",
      "2023-11-10 17:57:34,430 - root - INFO - Num offers after filtering time of day: 38\n",
      "2023-11-10 17:57:34,430 - root - INFO - Returning best offer\n",
      "2023-11-10 17:57:36,329 - httpx - INFO - HTTP Request: POST https://api.openai.com/v1/chat/completions \"HTTP/1.1 200 OK\"\n",
      "2023-11-10 17:57:36,332 - root - INFO - response: ChatCompletion(id='chatcmpl-8JUjOIwhLfFDMe89kiPrjZ030U6SN', choices=[Choice(finish_reason='stop', index=0, message=ChatCompletionMessage(content=\"Your flight from New York to San Francisco has been booked for tomorrow morning, November 11th, 2023. You'll be flying with American Airlines on a non-stop flight, departing at 07:44 AM in economy class. The total for the ticket is $211.54. Safe travels!\", role='assistant', function_call=None, tool_calls=None))], created=1699657054, model='gpt-4-1106-preview', object='chat.completion', system_fingerprint='fp_a24b4d720c', usage=CompletionUsage(completion_tokens=63, prompt_tokens=405, total_tokens=468))\n"
     ]
    },
    {
     "data": {
      "text/plain": "\"Your flight from New York to San Francisco has been booked for tomorrow morning, November 11th, 2023. You'll be flying with American Airlines on a non-stop flight, departing at 07:44 AM in economy class. The total for the ticket is $211.54. Safe travels!\""
     },
     "execution_count": 13,
     "metadata": {},
     "output_type": "execute_result"
    }
   ],
   "source": [
    "user_interaction(\"I'd like to book a flight from New york to san francisco tomorrow morning\")"
   ],
   "metadata": {
    "collapsed": false,
    "ExecuteTime": {
     "end_time": "2023-11-10T22:57:36.339654600Z",
     "start_time": "2023-11-10T22:57:13.304619900Z"
    }
   },
   "id": "14152ca2c21337b2"
  },
  {
   "cell_type": "code",
   "execution_count": 14,
   "outputs": [
    {
     "name": "stderr",
     "output_type": "stream",
     "text": [
      "2023-11-10 17:57:39,580 - httpx - INFO - HTTP Request: POST https://api.openai.com/v1/chat/completions \"HTTP/1.1 200 OK\"\n",
      "2023-11-10 17:57:39,583 - root - INFO - response: ChatCompletion(id='chatcmpl-8JUjSYkFRbFbgGC8c0wHPIDkyyWDZ', choices=[Choice(finish_reason='function_call', index=0, message=ChatCompletionMessage(content=None, role='assistant', function_call=FunctionCall(arguments='{\"relative_date\":\"next tuesday\"}', name='get_absolute_date'), tool_calls=None))], created=1699657058, model='gpt-4-1106-preview', object='chat.completion', system_fingerprint='fp_a24b4d720c', usage=CompletionUsage(completion_tokens=18, prompt_tokens=488, total_tokens=506))\n",
      "2023-11-10 17:57:39,583 - root - INFO - making get_absolute_date call with arguments: {'relative_date': 'next tuesday'}\n",
      "2023-11-10 17:57:41,259 - httpx - INFO - HTTP Request: POST https://api.openai.com/v1/chat/completions \"HTTP/1.1 200 OK\"\n",
      "2023-11-10 17:57:41,261 - root - INFO - response: ChatCompletion(id='chatcmpl-8JUjT6PXaVTFXX86PWxT534NFrrXj', choices=[Choice(finish_reason='function_call', index=0, message=ChatCompletionMessage(content=None, role='assistant', function_call=FunctionCall(arguments='{\"departure_city\":\"JFK\",\"destination_city\":\"SFO\",\"departure_date\":\"2023-11-14\",\"time_of_day\":\"morning\"}', name='book_best_flight'), tool_calls=None))], created=1699657059, model='gpt-4-1106-preview', object='chat.completion', system_fingerprint='fp_a24b4d720c', usage=CompletionUsage(completion_tokens=40, prompt_tokens=510, total_tokens=550))\n",
      "2023-11-10 17:57:41,262 - root - INFO - making book_best_flight call with arguments: {'departure_city': 'JFK', 'destination_city': 'SFO', 'departure_date': '2023-11-14', 'time_of_day': 'morning'}\n",
      "2023-11-10 17:57:41,262 - root - INFO - Getting offer for departure_city: JFK, destination_city: SFO, departure_date: 2023-11-14, time_of_day: morning, airline: None, cabin_class: None\n",
      "2023-11-10 17:57:41,263 - root - INFO - Calling Duffel API\n",
      "2023-11-10 17:58:00,010 - root - INFO - Getting best offer from 94 offers\n",
      "2023-11-10 17:58:00,011 - root - INFO - Filtering for morning flights\n",
      "2023-11-10 17:58:00,012 - root - INFO - Num offers after filtering time of day: 53\n",
      "2023-11-10 17:58:00,012 - root - INFO - Returning best offer\n",
      "2023-11-10 17:58:02,041 - httpx - INFO - HTTP Request: POST https://api.openai.com/v1/chat/completions \"HTTP/1.1 200 OK\"\n",
      "2023-11-10 17:58:02,043 - root - INFO - response: ChatCompletion(id='chatcmpl-8JUjoPiG2pBKGrgdm7ONO2qKJFNUJ', choices=[Choice(finish_reason='stop', index=0, message=ChatCompletionMessage(content='Your flight from New York to San Francisco has been rebooked for next Tuesday, November 14th, 2023. You will depart at 10:03 AM on a non-stop flight with British Airways in economy class. The cost of the ticket is $208.55. Is there anything else I can assist you with?', role='assistant', function_call=None, tool_calls=None))], created=1699657080, model='gpt-4-1106-preview', object='chat.completion', system_fingerprint='fp_a24b4d720c', usage=CompletionUsage(completion_tokens=69, prompt_tokens=558, total_tokens=627))\n"
     ]
    },
    {
     "data": {
      "text/plain": "'Your flight from New York to San Francisco has been rebooked for next Tuesday, November 14th, 2023. You will depart at 10:03 AM on a non-stop flight with British Airways in economy class. The cost of the ticket is $208.55. Is there anything else I can assist you with?'"
     },
     "execution_count": 14,
     "metadata": {},
     "output_type": "execute_result"
    }
   ],
   "source": [
    "user_interaction(\"Actually I'd like to take the flight next tuesday please.\") "
   ],
   "metadata": {
    "collapsed": false,
    "ExecuteTime": {
     "end_time": "2023-11-10T22:58:02.048523Z",
     "start_time": "2023-11-10T22:57:38.833137800Z"
    }
   },
   "id": "65cec535fbd598f2"
  },
  {
   "cell_type": "code",
   "execution_count": null,
   "outputs": [],
   "source": [
    "### things to improve\n",
    "  # 1. Considered caching requests in case similar requests were made. Might not be worth it since offers change so frequently\n",
    "  # 2. I haven't made any IATA validators, so airline and flight may not always be correct, but can easily be implemented using the gpt function calling\n",
    "  # 3. I'd like to expand the success and failure response to include both types of responses (datetime and MyOffer classes) instead of a generic catchall obj\n",
    "  # 4. Implement error handling for a query returning no flights (didn't run across this issue in my numerous testing)\n",
    "\n",
    "### things to in best offer function\n",
    "  # 1. Instead of giving up on time of day if there are none at that time, we should try to find the closest time\n",
    "  # 2. Same idea with cabin class, if there are no offers for the specified cabin class, we should try to find the closest cabin class\n",
    "  \n",
    "# i'm not sure what the best practice is for appending a function call back to the message history, the model decides to format the output in a non function call format otherwise. I'd love to hear any alternatives"
   ],
   "metadata": {
    "collapsed": false
   },
   "id": "34aab5c11a460a1b"
  }
 ],
 "metadata": {
  "kernelspec": {
   "display_name": "Python 3",
   "language": "python",
   "name": "python3"
  },
  "language_info": {
   "codemirror_mode": {
    "name": "ipython",
    "version": 2
   },
   "file_extension": ".py",
   "mimetype": "text/x-python",
   "name": "python",
   "nbconvert_exporter": "python",
   "pygments_lexer": "ipython2",
   "version": "2.7.6"
  }
 },
 "nbformat": 4,
 "nbformat_minor": 5
}
