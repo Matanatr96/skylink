{
 "cells": [
  {
   "cell_type": "code",
   "execution_count": 13,
   "outputs": [],
   "source": [
    "import os\n",
    "import json\n",
    "import logging \n",
    "\n",
    "import openai\n",
    "from dotenv import load_dotenv\n",
    "import DuffelManager\n",
    "\n",
    "load_dotenv(\"../.env\")\n",
    "openai.api_key = os.getenv(\"OPENAI_API_KEY\")\n",
    "logging.basicConfig(level=logging.INFO, format='%(asctime)s - %(name)s - %(levelname)s - %(message)s')"
   ],
   "metadata": {
    "collapsed": false,
    "ExecuteTime": {
     "end_time": "2023-11-10T22:05:12.309321Z",
     "start_time": "2023-11-10T22:05:12.300297700Z"
    }
   },
   "id": "3b0491a6ba12f413"
  },
  {
   "cell_type": "code",
   "execution_count": 18,
   "outputs": [],
   "source": [
    "functions =  [\n",
    "  {\n",
    "    \"name\": \"book_best_flight\",\n",
    "    \"description\": \"Will return confirmation for a flight booked given a departure city, arrival city, departure date\",\n",
    "    \"parameters\": {\n",
    "      \"type\": \"object\",\n",
    "      \"properties\": {\n",
    "        \"departure_city\": {\n",
    "          \"type\": \"string\",\n",
    "          \"description\": \"The 3 letter IATA code for the airport in the city of departure e.g. JFK, LHR, CDG\"\n",
    "        },\n",
    "        \"destination_city\": {\n",
    "          \"type\": \"string\",\n",
    "          \"description\": \"The 3 letter IATA code for the airport in the city of arrival e.g. JFK, LHR, CDG\"\n",
    "        },\n",
    "        \"departure_date\": {\n",
    "          \"type\": \"string\",\n",
    "          \"description\": \"The date of departure in the format YYYY-MM-DD\"\n",
    "        },\n",
    "        \"time_of_day\": {\n",
    "          \"type\": \"string\",\n",
    "          \"enum\": [\"morning\", \"afternoon\", \"evening\", \"night\"]\n",
    "        },\n",
    "        \"airline_name\": {\n",
    "          \"type\": \"string\",\n",
    "          \"description\": \"The 2 letter IATA code for the airline the user would like to fly in e.g. DL, UA, AA\"\n",
    "        },\n",
    "        \"cabin_class\": {\n",
    "          \"type\": \"string\",\n",
    "          \"enum\": [\"first\", \"business\", \"premium_economy\", \"economy\"]\n",
    "        },\n",
    "      },\n",
    "      \"required\": [\"departure_city\", \"destination_city\", \"departure_date\"]\n",
    "    }\n",
    "  },\n",
    "  {\n",
    "    \"name\": \"get_absolute_date\",\n",
    "    \"description\": \"Converts relative dates to absolute dates (only use if you can't convert the query into a date on your own)\",\n",
    "    \"parameters\": {\n",
    "      \"type\": \"object\",\n",
    "      \"properties\": {\n",
    "        \"relative_date\": {\n",
    "          \"type\": \"string\",\n",
    "          \"description\": \"The relative date to convert e.g. tomorrow, next week, next month\"\n",
    "        }\n",
    "      },\n",
    "      \"required\": [\"relative_date\"]\n",
    "    }\n",
    "  }\n",
    "]"
   ],
   "metadata": {
    "collapsed": false,
    "ExecuteTime": {
     "end_time": "2023-11-10T22:05:43.515750400Z",
     "start_time": "2023-11-10T22:05:43.507458300Z"
    }
   },
   "id": "35330ac014336f89"
  },
  {
   "cell_type": "code",
   "execution_count": 24,
   "outputs": [],
   "source": [
    "messages = [\n",
    "  {\"role\": \"system\", \"content\": \"You're a friendly flight booking assistant. You will be given a user query. Do your best to parse the user's request and respond accordingly. If the user hasn't given you enough information to make a function call, ask them for clarification\"}\n",
    "]"
   ],
   "metadata": {
    "collapsed": false,
    "ExecuteTime": {
     "end_time": "2023-11-10T22:09:53.123106200Z",
     "start_time": "2023-11-10T22:09:53.116898900Z"
    }
   },
   "id": "a0b806c710c8ab87"
  },
  {
   "cell_type": "code",
   "execution_count": 25,
   "outputs": [],
   "source": [
    "def call_gpt(chat_history: list[dict]):\n",
    "  return openai.chat.completions.create(\n",
    "    model=\"gpt-4-1106-preview\",\n",
    "    messages=chat_history,\n",
    "    functions=functions,\n",
    "    function_call=\"auto\"\n",
    "  )\n",
    "\n",
    "def user_interaction(query: str): \n",
    "  reason = \"function_call\"\n",
    "  messages.append({\"role\": \"user\", \"content\": query})\n",
    "  \n",
    "  #allows gpt to continue calling functions until it's ready to return to the user\n",
    "  while reason == \"function_call\":\n",
    "    response = call_gpt(messages)\n",
    "    logging.info(f\"response: {response}\")\n",
    "    reason = response.choices[0].finish_reason\n",
    "    if reason == \"function_call\":\n",
    "      kwargs = json.loads(response.choices[0].message.function_call.arguments)\n",
    "      function_to_call = getattr(DuffelManager, response.choices[0].message.function_call.name)\n",
    "      messages.append({\"role\": \"assistant\", \"content\": f\"content: {response.choices[0].message.content}\\n function_call:{response.choices[0].message.function_call.name}\\n\"})\n",
    "      logging.info(f\"making {function_to_call.__name__} call with arguments: {kwargs}\")\n",
    "      \n",
    "      #make the function call and add response to messages\n",
    "      response_obj = function_to_call(**kwargs)\n",
    "      if response_obj.success:\n",
    "        messages.append({\"role\": \"function\", \"content\": str(response_obj.resp), \"name\": function_to_call.__name__})\n",
    "      else:\n",
    "        messages.append({\"role\": \"function\", \"content\": str(response_obj.error), \"name\": function_to_call.__name__})\n",
    "    else: # ready to return to user\n",
    "      messages.append({\"role\": \"assistant\", \"content\": response.choices[0].message.content})\n",
    "      return messages[-1][\"content\"]"
   ],
   "metadata": {
    "collapsed": false,
    "ExecuteTime": {
     "end_time": "2023-11-10T22:09:53.668439400Z",
     "start_time": "2023-11-10T22:09:53.661037Z"
    }
   },
   "id": "89dfec24bbfd7a68"
  },
  {
   "cell_type": "code",
   "execution_count": 26,
   "outputs": [
    {
     "name": "stderr",
     "output_type": "stream",
     "text": [
      "2023-11-10 17:10:03,971 - httpx - INFO - HTTP Request: POST https://api.openai.com/v1/chat/completions \"HTTP/1.1 200 OK\"\n",
      "2023-11-10 17:10:03,973 - root - INFO - response: ChatCompletion(id='chatcmpl-8JTzO8KuOagAvyEQ83BiNQYkaBmLP', choices=[Choice(finish_reason='function_call', index=0, message=ChatCompletionMessage(content=None, role='assistant', function_call=FunctionCall(arguments='{\"departure_city\":\"LHR\",\"destination_city\":\"ADL\",\"departure_date\":\"2024-01-01\",\"cabin_class\":\"business\"}', name='book_best_flight'), tool_calls=None))], created=1699654202, model='gpt-4-1106-preview', object='chat.completion', system_fingerprint='fp_a24b4d720c', usage=CompletionUsage(completion_tokens=39, prompt_tokens=343, total_tokens=382))\n",
      "2023-11-10 17:10:03,974 - root - INFO - making book_best_flight call with arguments: {'departure_city': 'LHR', 'destination_city': 'ADL', 'departure_date': '2024-01-01', 'cabin_class': 'business'}\n",
      "2023-11-10 17:10:03,974 - root - INFO - Getting offer for departure_city: LHR, destination_city: ADL, departure_date: 2024-01-01, time_of_day: None, airline: None, cabin_class: business\n",
      "2023-11-10 17:10:03,974 - root - INFO - Calling Duffel API\n",
      "2023-11-10 17:10:08,566 - root - INFO - Getting best offer from 61 offers\n",
      "2023-11-10 17:10:08,567 - root - INFO - Returning best offer\n"
     ]
    },
    {
     "name": "stdout",
     "output_type": "stream",
     "text": [
      "{'id': 'sto_0000Abg1wIDxw3JAkZ2Rol', 'duration': 'PT6H30M', 'departing_at': '2024-01-03T05:35:00', 'arriving_at': '2024-01-02T23:05:00', 'airport': {'type': 'airport', 'time_zone': 'Australia/Melbourne', 'name': 'Melbourne Airport', 'longitude': 144.842014, 'latitude': -37.671157, 'id': 'arp_mel_au', 'icao_code': 'YMML', 'iata_country_code': 'AU', 'iata_code': 'MEL', 'iata_city_code': 'MEL', 'city_name': 'Melbourne'}}\n",
      "{'id': 'sto_0000Abg1wIDxw3JAkZ2Rot', 'duration': 'PT6H30M', 'departing_at': '2024-01-03T05:35:00', 'arriving_at': '2024-01-02T23:05:00', 'airport': {'type': 'airport', 'time_zone': 'Australia/Melbourne', 'name': 'Melbourne Airport', 'longitude': 144.842014, 'latitude': -37.671157, 'id': 'arp_mel_au', 'icao_code': 'YMML', 'iata_country_code': 'AU', 'iata_code': 'MEL', 'iata_city_code': 'MEL', 'city_name': 'Melbourne'}}\n",
      "{'id': 'sto_0000Abg1wIDxw3JAkZ2Rp1', 'duration': 'PT6H30M', 'departing_at': '2024-01-03T05:35:00', 'arriving_at': '2024-01-02T23:05:00', 'airport': {'type': 'airport', 'time_zone': 'Australia/Melbourne', 'name': 'Melbourne Airport', 'longitude': 144.842014, 'latitude': -37.671157, 'id': 'arp_mel_au', 'icao_code': 'YMML', 'iata_country_code': 'AU', 'iata_code': 'MEL', 'iata_city_code': 'MEL', 'city_name': 'Melbourne'}}\n",
      "{'id': 'sto_0000Abg1wIEJujaklfCjMg', 'duration': 'PT6H30M', 'departing_at': '2024-01-03T05:35:00', 'arriving_at': '2024-01-02T23:05:00', 'airport': {'type': 'airport', 'time_zone': 'Australia/Melbourne', 'name': 'Melbourne Airport', 'longitude': 144.842014, 'latitude': -37.671157, 'id': 'arp_mel_au', 'icao_code': 'YMML', 'iata_country_code': 'AU', 'iata_code': 'MEL', 'iata_city_code': 'MEL', 'city_name': 'Melbourne'}}\n",
      "{'id': 'sto_0000Abg1wIEJujaklfCjNK', 'duration': 'PT6H30M', 'departing_at': '2024-01-03T05:35:00', 'arriving_at': '2024-01-02T23:05:00', 'airport': {'type': 'airport', 'time_zone': 'Australia/Melbourne', 'name': 'Melbourne Airport', 'longitude': 144.842014, 'latitude': -37.671157, 'id': 'arp_mel_au', 'icao_code': 'YMML', 'iata_country_code': 'AU', 'iata_code': 'MEL', 'iata_city_code': 'MEL', 'city_name': 'Melbourne'}}\n",
      "{'id': 'sto_0000Abg1wIEftPsKmlN0uy', 'duration': 'PT6H30M', 'departing_at': '2024-01-03T05:35:00', 'arriving_at': '2024-01-02T23:05:00', 'airport': {'type': 'airport', 'time_zone': 'Australia/Melbourne', 'name': 'Melbourne Airport', 'longitude': 144.842014, 'latitude': -37.671157, 'id': 'arp_mel_au', 'icao_code': 'YMML', 'iata_country_code': 'AU', 'iata_code': 'MEL', 'iata_city_code': 'MEL', 'city_name': 'Melbourne'}}\n",
      "{'id': 'sto_0000Abg1wIEJujaklfCjMo', 'duration': 'PT6H30M', 'departing_at': '2024-01-03T05:35:00', 'arriving_at': '2024-01-02T23:05:00', 'airport': {'type': 'airport', 'time_zone': 'Australia/Melbourne', 'name': 'Melbourne Airport', 'longitude': 144.842014, 'latitude': -37.671157, 'id': 'arp_mel_au', 'icao_code': 'YMML', 'iata_country_code': 'AU', 'iata_code': 'MEL', 'iata_city_code': 'MEL', 'city_name': 'Melbourne'}}\n",
      "{'id': 'sto_0000Abg1wIEJujaklfCjMw', 'duration': 'PT6H30M', 'departing_at': '2024-01-03T05:35:00', 'arriving_at': '2024-01-02T23:05:00', 'airport': {'type': 'airport', 'time_zone': 'Australia/Melbourne', 'name': 'Melbourne Airport', 'longitude': 144.842014, 'latitude': -37.671157, 'id': 'arp_mel_au', 'icao_code': 'YMML', 'iata_country_code': 'AU', 'iata_code': 'MEL', 'iata_city_code': 'MEL', 'city_name': 'Melbourne'}}\n",
      "{'id': 'sto_0000Abg1wIEJujaklfCjN4', 'duration': 'PT6H30M', 'departing_at': '2024-01-03T05:35:00', 'arriving_at': '2024-01-02T23:05:00', 'airport': {'type': 'airport', 'time_zone': 'Australia/Melbourne', 'name': 'Melbourne Airport', 'longitude': 144.842014, 'latitude': -37.671157, 'id': 'arp_mel_au', 'icao_code': 'YMML', 'iata_country_code': 'AU', 'iata_code': 'MEL', 'iata_city_code': 'MEL', 'city_name': 'Melbourne'}}\n",
      "{'id': 'sto_0000Abg1wIEJujaklfCjNC', 'duration': 'PT6H30M', 'departing_at': '2024-01-03T05:35:00', 'arriving_at': '2024-01-02T23:05:00', 'airport': {'type': 'airport', 'time_zone': 'Australia/Melbourne', 'name': 'Melbourne Airport', 'longitude': 144.842014, 'latitude': -37.671157, 'id': 'arp_mel_au', 'icao_code': 'YMML', 'iata_country_code': 'AU', 'iata_code': 'MEL', 'iata_city_code': 'MEL', 'city_name': 'Melbourne'}}\n"
     ]
    },
    {
     "name": "stderr",
     "output_type": "stream",
     "text": [
      "2023-11-10 17:10:10,383 - httpx - INFO - HTTP Request: POST https://api.openai.com/v1/chat/completions \"HTTP/1.1 200 OK\"\n",
      "2023-11-10 17:10:10,385 - root - INFO - response: ChatCompletion(id='chatcmpl-8JTzU77dSzREzoorOnMnKWmjXCSQp', choices=[Choice(finish_reason='stop', index=0, message=ChatCompletionMessage(content=\"Your flight from London to Adelaide has been booked on Duffel Airways. You'll be flying business class on January 1, 2024. The total for your trip is $3125.67. If you need further assistance or if you want to add any additional services, please let me know!\", role='assistant', function_call=None, tool_calls=None))], created=1699654208, model='gpt-4-1106-preview', object='chat.completion', system_fingerprint='fp_a24b4d720c', usage=CompletionUsage(completion_tokens=63, prompt_tokens=399, total_tokens=462))\n"
     ]
    },
    {
     "data": {
      "text/plain": "\"Your flight from London to Adelaide has been booked on Duffel Airways. You'll be flying business class on January 1, 2024. The total for your trip is $3125.67. If you need further assistance or if you want to add any additional services, please let me know!\""
     },
     "execution_count": 26,
     "metadata": {},
     "output_type": "execute_result"
    }
   ],
   "source": [
    "user_interaction(\"I'd like to book a flight from London to Adelaide on business class on the first of january in 2024\")"
   ],
   "metadata": {
    "collapsed": false,
    "ExecuteTime": {
     "end_time": "2023-11-10T22:10:10.394314700Z",
     "start_time": "2023-11-10T22:10:02.797557300Z"
    }
   },
   "id": "14152ca2c21337b2"
  },
  {
   "cell_type": "code",
   "execution_count": 27,
   "outputs": [
    {
     "name": "stderr",
     "output_type": "stream",
     "text": [
      "2023-11-10 17:10:15,691 - httpx - INFO - HTTP Request: POST https://api.openai.com/v1/chat/completions \"HTTP/1.1 200 OK\"\n",
      "2023-11-10 17:10:15,694 - root - INFO - response: ChatCompletion(id='chatcmpl-8JTzaInDA8EWC1BecGdQgQ1p0yi9M', choices=[Choice(finish_reason='function_call', index=0, message=ChatCompletionMessage(content=None, role='assistant', function_call=FunctionCall(arguments='{\"departure_city\":\"LHR\",\"destination_city\":\"ADL\",\"departure_date\":\"2024-01-01\",\"cabin_class\":\"economy\"}', name='book_best_flight'), tool_calls=None))], created=1699654214, model='gpt-4-1106-preview', object='chat.completion', system_fingerprint='fp_a24b4d720c', usage=CompletionUsage(completion_tokens=40, prompt_tokens=485, total_tokens=525))\n",
      "2023-11-10 17:10:15,694 - root - INFO - making book_best_flight call with arguments: {'departure_city': 'LHR', 'destination_city': 'ADL', 'departure_date': '2024-01-01', 'cabin_class': 'economy'}\n",
      "2023-11-10 17:10:15,695 - root - INFO - Getting offer for departure_city: LHR, destination_city: ADL, departure_date: 2024-01-01, time_of_day: None, airline: None, cabin_class: economy\n",
      "2023-11-10 17:10:15,695 - root - INFO - Calling Duffel API\n",
      "2023-11-10 17:10:19,962 - root - INFO - Getting best offer from 78 offers\n",
      "2023-11-10 17:10:19,963 - root - INFO - Returning best offer\n"
     ]
    },
    {
     "name": "stdout",
     "output_type": "stream",
     "text": [
      "{'id': 'sto_0000Abg1xLFtGXd0ep53pk', 'duration': 'PT6H30M', 'departing_at': '2024-01-03T05:35:00', 'arriving_at': '2024-01-02T23:05:00', 'airport': {'type': 'airport', 'time_zone': 'Australia/Melbourne', 'name': 'Melbourne Airport', 'longitude': 144.842014, 'latitude': -37.671157, 'id': 'arp_mel_au', 'icao_code': 'YMML', 'iata_country_code': 'AU', 'iata_code': 'MEL', 'iata_city_code': 'MEL', 'city_name': 'Melbourne'}}\n",
      "{'id': 'sto_0000Abg1xLGbDuCAh1PcwE', 'duration': 'PT6H30M', 'departing_at': '2024-01-03T05:35:00', 'arriving_at': '2024-01-02T23:05:00', 'airport': {'type': 'airport', 'time_zone': 'Australia/Melbourne', 'name': 'Melbourne Airport', 'longitude': 144.842014, 'latitude': -37.671157, 'id': 'arp_mel_au', 'icao_code': 'YMML', 'iata_country_code': 'AU', 'iata_code': 'MEL', 'iata_city_code': 'MEL', 'city_name': 'Melbourne'}}\n",
      "{'id': 'sto_0000Abg1xLGFFDuafvFLNe', 'duration': 'PT6H30M', 'departing_at': '2024-01-03T05:35:00', 'arriving_at': '2024-01-02T23:05:00', 'airport': {'type': 'airport', 'time_zone': 'Australia/Melbourne', 'name': 'Melbourne Airport', 'longitude': 144.842014, 'latitude': -37.671157, 'id': 'arp_mel_au', 'icao_code': 'YMML', 'iata_country_code': 'AU', 'iata_code': 'MEL', 'iata_city_code': 'MEL', 'city_name': 'Melbourne'}}\n",
      "{'id': 'sto_0000Abg1xLGFFDuafvFLNm', 'duration': 'PT6H30M', 'departing_at': '2024-01-03T05:35:00', 'arriving_at': '2024-01-02T23:05:00', 'airport': {'type': 'airport', 'time_zone': 'Australia/Melbourne', 'name': 'Melbourne Airport', 'longitude': 144.842014, 'latitude': -37.671157, 'id': 'arp_mel_au', 'icao_code': 'YMML', 'iata_country_code': 'AU', 'iata_code': 'MEL', 'iata_city_code': 'MEL', 'city_name': 'Melbourne'}}\n",
      "{'id': 'sto_0000Abg1xLFtGXd0ep53q0', 'duration': 'PT6H30M', 'departing_at': '2024-01-03T05:35:00', 'arriving_at': '2024-01-02T23:05:00', 'airport': {'type': 'airport', 'time_zone': 'Australia/Melbourne', 'name': 'Melbourne Airport', 'longitude': 144.842014, 'latitude': -37.671157, 'id': 'arp_mel_au', 'icao_code': 'YMML', 'iata_country_code': 'AU', 'iata_code': 'MEL', 'iata_city_code': 'MEL', 'city_name': 'Melbourne'}}\n",
      "{'id': 'sto_0000Abg1xLGbDuCAh1PcwU', 'duration': 'PT6H30M', 'departing_at': '2024-01-04T05:35:00', 'arriving_at': '2024-01-03T23:05:00', 'airport': {'type': 'airport', 'time_zone': 'Australia/Melbourne', 'name': 'Melbourne Airport', 'longitude': 144.842014, 'latitude': -37.671157, 'id': 'arp_mel_au', 'icao_code': 'YMML', 'iata_country_code': 'AU', 'iata_code': 'MEL', 'iata_city_code': 'MEL', 'city_name': 'Melbourne'}}\n",
      "{'id': 'sto_0000Abg1xLGxCaTki7ZuUY', 'duration': 'PT6H30M', 'departing_at': '2024-01-04T05:35:00', 'arriving_at': '2024-01-03T23:05:00', 'airport': {'type': 'airport', 'time_zone': 'Australia/Melbourne', 'name': 'Melbourne Airport', 'longitude': 144.842014, 'latitude': -37.671157, 'id': 'arp_mel_au', 'icao_code': 'YMML', 'iata_country_code': 'AU', 'iata_code': 'MEL', 'iata_city_code': 'MEL', 'city_name': 'Melbourne'}}\n",
      "{'id': 'sto_0000Abg1xLGxCaTki7ZuUA', 'duration': 'PT6H30M', 'departing_at': '2024-01-04T05:35:00', 'arriving_at': '2024-01-03T23:05:00', 'airport': {'type': 'airport', 'time_zone': 'Australia/Melbourne', 'name': 'Melbourne Airport', 'longitude': 144.842014, 'latitude': -37.671157, 'id': 'arp_mel_au', 'icao_code': 'YMML', 'iata_country_code': 'AU', 'iata_code': 'MEL', 'iata_city_code': 'MEL', 'city_name': 'Melbourne'}}\n",
      "{'id': 'sto_0000Abg1xLFtGXd0ep53ps', 'duration': 'PT6H30M', 'departing_at': '2024-01-03T05:35:00', 'arriving_at': '2024-01-02T23:05:00', 'airport': {'type': 'airport', 'time_zone': 'Australia/Melbourne', 'name': 'Melbourne Airport', 'longitude': 144.842014, 'latitude': -37.671157, 'id': 'arp_mel_au', 'icao_code': 'YMML', 'iata_country_code': 'AU', 'iata_code': 'MEL', 'iata_city_code': 'MEL', 'city_name': 'Melbourne'}}\n",
      "{'id': 'sto_0000Abg1xLGbDuCAh1Pcvr', 'duration': 'PT6H30M', 'departing_at': '2024-01-03T05:35:00', 'arriving_at': '2024-01-02T23:05:00', 'airport': {'type': 'airport', 'time_zone': 'Australia/Melbourne', 'name': 'Melbourne Airport', 'longitude': 144.842014, 'latitude': -37.671157, 'id': 'arp_mel_au', 'icao_code': 'YMML', 'iata_country_code': 'AU', 'iata_code': 'MEL', 'iata_city_code': 'MEL', 'city_name': 'Melbourne'}}\n",
      "{'id': 'sto_0000Abg1xLGbDuCAh1Pcvz', 'duration': 'PT6H30M', 'departing_at': '2024-01-03T05:35:00', 'arriving_at': '2024-01-02T23:05:00', 'airport': {'type': 'airport', 'time_zone': 'Australia/Melbourne', 'name': 'Melbourne Airport', 'longitude': 144.842014, 'latitude': -37.671157, 'id': 'arp_mel_au', 'icao_code': 'YMML', 'iata_country_code': 'AU', 'iata_code': 'MEL', 'iata_city_code': 'MEL', 'city_name': 'Melbourne'}}\n",
      "{'id': 'sto_0000Abg1xLGbDuCAh1PcwM', 'duration': 'PT6H30M', 'departing_at': '2024-01-03T05:35:00', 'arriving_at': '2024-01-02T23:05:00', 'airport': {'type': 'airport', 'time_zone': 'Australia/Melbourne', 'name': 'Melbourne Airport', 'longitude': 144.842014, 'latitude': -37.671157, 'id': 'arp_mel_au', 'icao_code': 'YMML', 'iata_country_code': 'AU', 'iata_code': 'MEL', 'iata_city_code': 'MEL', 'city_name': 'Melbourne'}}\n",
      "{'id': 'sto_0000Abg1xLGFFDuafvFLNu', 'duration': 'PT6H30M', 'departing_at': '2024-01-03T05:35:00', 'arriving_at': '2024-01-02T23:05:00', 'airport': {'type': 'airport', 'time_zone': 'Australia/Melbourne', 'name': 'Melbourne Airport', 'longitude': 144.842014, 'latitude': -37.671157, 'id': 'arp_mel_au', 'icao_code': 'YMML', 'iata_country_code': 'AU', 'iata_code': 'MEL', 'iata_city_code': 'MEL', 'city_name': 'Melbourne'}}\n",
      "{'id': 'sto_0000Abg1xLGxCaTki7ZuUI', 'duration': 'PT6H30M', 'departing_at': '2024-01-04T05:35:00', 'arriving_at': '2024-01-03T23:05:00', 'airport': {'type': 'airport', 'time_zone': 'Australia/Melbourne', 'name': 'Melbourne Airport', 'longitude': 144.842014, 'latitude': -37.671157, 'id': 'arp_mel_au', 'icao_code': 'YMML', 'iata_country_code': 'AU', 'iata_code': 'MEL', 'iata_city_code': 'MEL', 'city_name': 'Melbourne'}}\n",
      "{'id': 'sto_0000Abg1xLGxCaTki7ZuUQ', 'duration': 'PT6H30M', 'departing_at': '2024-01-04T05:35:00', 'arriving_at': '2024-01-03T23:05:00', 'airport': {'type': 'airport', 'time_zone': 'Australia/Melbourne', 'name': 'Melbourne Airport', 'longitude': 144.842014, 'latitude': -37.671157, 'id': 'arp_mel_au', 'icao_code': 'YMML', 'iata_country_code': 'AU', 'iata_code': 'MEL', 'iata_city_code': 'MEL', 'city_name': 'Melbourne'}}\n",
      "{'id': 'sto_0000Abg1xLHJBGlKjDkC2L', 'duration': 'PT6H30M', 'departing_at': '2024-01-04T05:35:00', 'arriving_at': '2024-01-03T23:05:00', 'airport': {'type': 'airport', 'time_zone': 'Australia/Melbourne', 'name': 'Melbourne Airport', 'longitude': 144.842014, 'latitude': -37.671157, 'id': 'arp_mel_au', 'icao_code': 'YMML', 'iata_country_code': 'AU', 'iata_code': 'MEL', 'iata_city_code': 'MEL', 'city_name': 'Melbourne'}}\n"
     ]
    },
    {
     "name": "stderr",
     "output_type": "stream",
     "text": [
      "2023-11-10 17:10:22,437 - httpx - INFO - HTTP Request: POST https://api.openai.com/v1/chat/completions \"HTTP/1.1 200 OK\"\n",
      "2023-11-10 17:10:22,439 - root - INFO - response: ChatCompletion(id='chatcmpl-8JTzg0bVqOX9AwILEcDLfseUoSoet', choices=[Choice(finish_reason='stop', index=0, message=ChatCompletionMessage(content=\"I've updated your booking to economy class. The flight from London to Adelaide is still on Duffel Airways, with no stops, departing on January 1, 2024. The new price for your trip is $759.19. If everything looks good or if you need further assistance, let me know!\", role='assistant', function_call=None, tool_calls=None))], created=1699654220, model='gpt-4-1106-preview', object='chat.completion', system_fingerprint='fp_a24b4d720c', usage=CompletionUsage(completion_tokens=65, prompt_tokens=540, total_tokens=605))\n"
     ]
    },
    {
     "data": {
      "text/plain": "\"I've updated your booking to economy class. The flight from London to Adelaide is still on Duffel Airways, with no stops, departing on January 1, 2024. The new price for your trip is $759.19. If everything looks good or if you need further assistance, let me know!\""
     },
     "execution_count": 27,
     "metadata": {},
     "output_type": "execute_result"
    }
   ],
   "source": [
    "user_interaction(\"Actually I'd like to make it an economy flight, thats too expensive for me\") "
   ],
   "metadata": {
    "collapsed": false,
    "ExecuteTime": {
     "end_time": "2023-11-10T22:10:22.449156600Z",
     "start_time": "2023-11-10T22:10:14.499471600Z"
    }
   },
   "id": "65cec535fbd598f2"
  },
  {
   "cell_type": "code",
   "execution_count": null,
   "outputs": [],
   "source": [
    "### things to improve\n",
    "  # 1. Considered caching requests in case similar requests were made. Might not be worth it since offers change so frequently\n",
    "  # 2. I haven't made any IATA validators, so airline and flight may not always be correct, but can easily be implemented using the gpt function calling\n",
    "  # 3. I'd like to expand the success and failure response to include both types of responses (datetime and MyOffer classes) instead of a generic catchall obj\n",
    "\n",
    "### things to in best offer function\n",
    "  # 1. Instead of giving up on time of day if there are none at that time, we should try to find the closest time\n",
    "  # 2. Same idea with cabin class, if there are no offers for the specified cabin class, we should try to find the closest cabin class"
   ],
   "metadata": {
    "collapsed": false
   },
   "id": "34aab5c11a460a1b"
  }
 ],
 "metadata": {
  "kernelspec": {
   "display_name": "Python 3",
   "language": "python",
   "name": "python3"
  },
  "language_info": {
   "codemirror_mode": {
    "name": "ipython",
    "version": 2
   },
   "file_extension": ".py",
   "mimetype": "text/x-python",
   "name": "python",
   "nbconvert_exporter": "python",
   "pygments_lexer": "ipython2",
   "version": "2.7.6"
  }
 },
 "nbformat": 4,
 "nbformat_minor": 5
}
