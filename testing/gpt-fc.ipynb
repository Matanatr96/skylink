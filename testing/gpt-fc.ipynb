{
 "cells": [
  {
   "cell_type": "code",
   "execution_count": 1,
   "outputs": [],
   "source": [
    "import os\n",
    "import json\n",
    "import logging \n",
    "\n",
    "import openai\n",
    "from dotenv import load_dotenv\n",
    "from DuffelManager import get_best_offer\n",
    "\n",
    "load_dotenv(\"../.env\")\n",
    "openai.api_key = os.getenv(\"OPENAI_API_KEY\")\n",
    "logging.basicConfig(level=logging.INFO, format='%(asctime)s - %(name)s - %(levelname)s - %(message)s')"
   ],
   "metadata": {
    "collapsed": false,
    "ExecuteTime": {
     "end_time": "2023-11-10T17:45:53.664519600Z",
     "start_time": "2023-11-10T17:45:53.122177200Z"
    }
   },
   "id": "3b0491a6ba12f413"
  },
  {
   "cell_type": "code",
   "execution_count": 2,
   "outputs": [],
   "source": [
    "# write function to get flights for a day, location and airline\n",
    "functions =  [\n",
    "  {\n",
    "    \"name\": \"book_best_flight\",\n",
    "    \"description\": \"Will return confirmation for a flight booked given a departure city, arrival city, departure date\",\n",
    "    \"parameters\": {\n",
    "      \"type\": \"object\",\n",
    "      \"properties\": {\n",
    "        \"departure_city\": {\n",
    "          \"type\": \"string\",\n",
    "          \"description\": \"The 3 letter IATA code for the airport in the city of departure e.g. JFK, LHR, CDG\"\n",
    "        },\n",
    "        \"destination_city\": {\n",
    "          \"type\": \"string\",\n",
    "          \"description\": \"The 3 letter IATA code for the airport in the city of arrival e.g. JFK, LHR, CDG\"\n",
    "        },\n",
    "        \"departure_date\": {\n",
    "          \"type\": \"string\",\n",
    "          \"description\": \"The date of departure in the format YYYY-MM-DD\"\n",
    "        },\n",
    "        \"time_of_day\": {\n",
    "          \"type\": \"string\",\n",
    "          \"enum\": [\"morning\", \"afternoon\", \"evening\", \"night\"]\n",
    "        },\n",
    "        \"airline_name\": {\n",
    "          \"type\": \"string\",\n",
    "          \"description\": \"The 2 letter IATA code for the airline the user would like to fly in e.g. DL, UA, AA\"\n",
    "        },\n",
    "        \"cabin_class\": {\n",
    "          \"type\": \"string\",\n",
    "          \"enum\": [\"first\", \"business\", \"premium_economy\", \"economy\"]\n",
    "        },\n",
    "      },\n",
    "      \"required\": [\"departure_city\", \"destination_city\", \"departure_date\"]\n",
    "    }\n",
    "  }\n",
    "]"
   ],
   "metadata": {
    "collapsed": false,
    "ExecuteTime": {
     "end_time": "2023-11-10T17:45:54.321428300Z",
     "start_time": "2023-11-10T17:45:54.313901500Z"
    }
   },
   "id": "35330ac014336f89"
  },
  {
   "cell_type": "code",
   "execution_count": 3,
   "outputs": [],
   "source": [
    "messages = [\n",
    "  {\"role\": \"system\", \"content\": \"You're a friendly flight booking assistant. You will be given a user query. Do your best to parse the user's request and respond accordingly. If the user hasn't given you enough information to make a function call, ask them for clarification\"}\n",
    "]"
   ],
   "metadata": {
    "collapsed": false,
    "ExecuteTime": {
     "end_time": "2023-11-10T17:45:54.886127600Z",
     "start_time": "2023-11-10T17:45:54.880104500Z"
    }
   },
   "id": "a0b806c710c8ab87"
  },
  {
   "cell_type": "code",
   "execution_count": 8,
   "outputs": [],
   "source": [
    "def user_interaction(query: str): \n",
    "  messages.append({\"role\": \"user\", \"content\": query})\n",
    "  response = openai.chat.completions.create(\n",
    "    model=\"gpt-4-1106-preview\",\n",
    "    messages=messages,\n",
    "    functions=functions,\n",
    "    function_call=\"auto\"\n",
    "  )\n",
    "  reason = response.choices[0].finish_reason\n",
    "  if reason == \"function_call\":\n",
    "    # handle function call\n",
    "    kwargs = json.loads(response.choices[0].message.function_call.arguments)\n",
    "    \n",
    "    logging.info(f\"making function call with arguments: {kwargs}\")\n",
    "    \n",
    "    response_obj = get_best_offer(**kwargs)\n",
    "    if response_obj.success:\n",
    "      best_offer = response_obj.best_offer\n",
    "      # can be improved by feeding the response back to gpt and having it generate a response\n",
    "      messages.append({\"role\": \"assistant\", \"content\": f\"Great! I've booked you on {best_offer.airline_name} with {best_offer.num_segments - 1} stops from {kwargs['departure_city']} to {kwargs['destination_city']} on {best_offer.departure_time} in {best_offer.cabin_class} class for ${best_offer.total_amount}. Is there anything else I can help you with?\"})\n",
    "      return messages[-1][\"content\"]\n",
    "    else:\n",
    "      #run another gpt call here to format the error response better\n",
    "      messages.append({\"role\": \"assistant\", \"content\": f\"Sorry, I couldn't find any flights for {kwargs['departure_city']} to {kwargs['destination_city']} on {kwargs['departure_date']} in {kwargs['cabin_class']} class. Would you mind tweaking the parameters a bit?\"})\n",
    "      return messages[-1][\"content\"]\n",
    "  else:\n",
    "    # return this output to user\n",
    "    messages.append({\"role\": \"assistant\", \"content\": response.choices[0].message.content})\n",
    "    return messages[-1][\"content\"]"
   ],
   "metadata": {
    "collapsed": false,
    "ExecuteTime": {
     "end_time": "2023-11-10T17:48:29.268226500Z",
     "start_time": "2023-11-10T17:48:29.263815200Z"
    }
   },
   "id": "89dfec24bbfd7a68"
  },
  {
   "cell_type": "code",
   "execution_count": 9,
   "outputs": [
    {
     "name": "stderr",
     "output_type": "stream",
     "text": [
      "2023-11-10 12:48:32,917 - httpx - INFO - HTTP Request: POST https://api.openai.com/v1/chat/completions \"HTTP/1.1 200 OK\"\n",
      "2023-11-10 12:48:32,919 - root - INFO - making function call with arguments: {'departure_city': 'JFK', 'destination_city': 'ATL', 'departure_date': '2023-12-25', 'time_of_day': 'morning'}\n",
      "2023-11-10 12:48:32,919 - root - INFO - Getting offer for departure_city: JFK, destination_city: ATL, departure_date: 2023-12-25, time_of_day: morning, airline: None, cabin_class: None\n",
      "2023-11-10 12:48:32,919 - root - INFO - Calling Duffel API\n",
      "2023-11-10 12:48:51,517 - root - INFO - Getting best offer from 23 offers\n",
      "2023-11-10 12:48:51,518 - root - INFO - Filtering for morning flights\n",
      "2023-11-10 12:48:51,518 - root - INFO - Num offers after filtering time of day: 10\n",
      "2023-11-10 12:48:51,519 - root - INFO - Returning best offer\n"
     ]
    },
    {
     "data": {
      "text/plain": "\"Great! I've booked you on JetBlue Airways with 0 stops from JFK to ATL on 2023-12-25 09:00:00 in economy class for 133.90. Is there anything else I can help you with?\""
     },
     "execution_count": 9,
     "metadata": {},
     "output_type": "execute_result"
    }
   ],
   "source": [
    "user_interaction(\"Hello, i'd like to book a flight from New York to Atlanta on the morning of 2023-12-25\")"
   ],
   "metadata": {
    "collapsed": false,
    "ExecuteTime": {
     "end_time": "2023-11-10T17:48:51.528957500Z",
     "start_time": "2023-11-10T17:48:30.343880900Z"
    }
   },
   "id": "14152ca2c21337b2"
  },
  {
   "cell_type": "code",
   "execution_count": 10,
   "outputs": [
    {
     "name": "stderr",
     "output_type": "stream",
     "text": [
      "2023-11-10 12:49:06,968 - httpx - INFO - HTTP Request: POST https://api.openai.com/v1/chat/completions \"HTTP/1.1 200 OK\"\n",
      "2023-11-10 12:49:06,972 - root - INFO - making function call with arguments: {'departure_city': 'JFK', 'destination_city': 'ATL', 'departure_date': '2023-12-25', 'time_of_day': 'evening'}\n",
      "2023-11-10 12:49:06,972 - root - INFO - Getting offer for departure_city: JFK, destination_city: ATL, departure_date: 2023-12-25, time_of_day: evening, airline: None, cabin_class: None\n",
      "2023-11-10 12:49:06,972 - root - INFO - Calling Duffel API\n",
      "2023-11-10 12:49:25,590 - root - INFO - Getting best offer from 23 offers\n",
      "2023-11-10 12:49:25,591 - root - INFO - Filtering for evening flights\n",
      "2023-11-10 12:49:25,592 - root - INFO - Num offers after filtering time of day: 2\n",
      "2023-11-10 12:49:25,592 - root - INFO - Returning best offer\n"
     ]
    },
    {
     "data": {
      "text/plain": "\"Great! I've booked you on Duffel Airways with 0 stops from JFK to ATL on 2023-12-25 18:34:00 in economy class for 89.19. Is there anything else I can help you with?\""
     },
     "execution_count": 10,
     "metadata": {},
     "output_type": "execute_result"
    }
   ],
   "source": [
    "user_interaction(\"Actually, I'd like to fly in the evening\")"
   ],
   "metadata": {
    "collapsed": false,
    "ExecuteTime": {
     "end_time": "2023-11-10T17:49:25.602486500Z",
     "start_time": "2023-11-10T17:49:05.331776900Z"
    }
   },
   "id": "65cec535fbd598f2"
  },
  {
   "cell_type": "code",
   "execution_count": null,
   "outputs": [],
   "source": [],
   "metadata": {
    "collapsed": false
   },
   "id": "34aab5c11a460a1b"
  }
 ],
 "metadata": {
  "kernelspec": {
   "display_name": "Python 3",
   "language": "python",
   "name": "python3"
  },
  "language_info": {
   "codemirror_mode": {
    "name": "ipython",
    "version": 2
   },
   "file_extension": ".py",
   "mimetype": "text/x-python",
   "name": "python",
   "nbconvert_exporter": "python",
   "pygments_lexer": "ipython2",
   "version": "2.7.6"
  }
 },
 "nbformat": 4,
 "nbformat_minor": 5
}
