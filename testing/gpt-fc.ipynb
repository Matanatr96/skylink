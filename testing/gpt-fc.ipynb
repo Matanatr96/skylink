{
 "cells": [
  {
   "cell_type": "code",
   "execution_count": 24,
   "outputs": [],
   "source": [
    "import os\n",
    "import json\n",
    "\n",
    "import openai\n",
    "from dotenv import load_dotenv\n",
    "\n",
    "\n",
    "load_dotenv(\"../.env\")\n",
    "openai.api_key = os.getenv(\"OPENAI_API_KEY\")"
   ],
   "metadata": {
    "collapsed": false,
    "ExecuteTime": {
     "end_time": "2023-11-10T15:13:19.094347300Z",
     "start_time": "2023-11-10T15:13:19.083834400Z"
    }
   },
   "id": "3b0491a6ba12f413"
  },
  {
   "cell_type": "code",
   "execution_count": 33,
   "outputs": [],
   "source": [
    "# write function to get flights for a day, location and airline\n",
    "functions =  [\n",
    "  {\n",
    "    \"name\": \"book_best_flight\",\n",
    "    \"description\": \"Will return confirmation for a flight booked given a departure city, arrival city, departure date, cabin class, and airline\",\n",
    "    \"parameters\": {\n",
    "      \"type\": \"object\",\n",
    "      \"properties\": {\n",
    "        \"departure_city\": {\n",
    "          \"type\": \"string\",\n",
    "          \"description\": \"The IATA code for the city of departure e.g. JFK, LHR, CDG\"\n",
    "        },\n",
    "        \"arrival_city\": {\n",
    "          \"type\": \"string\",\n",
    "          \"description\": \"The IATA code for the city of arrival e.g. JFK, LHR, CDG\"\n",
    "        },\n",
    "        \"departure_date\": {\n",
    "          \"type\": \"string\",\n",
    "          \"description\": \"The date of departure in the format YYYY-MM-DD\"\n",
    "        },\n",
    "        \"time_of_day\": {\n",
    "          \"type\": \"string\",\n",
    "          \"enum\": [\"morning\", \"afternoon\", \"evening\"]\n",
    "        },\n",
    "        \"cabin_class\": {\n",
    "          \"type\": \"string\",\n",
    "          \"enum\": [\"first\", \"business\", \"premium_economy\", \"economy\"]\n",
    "        },\n",
    "        \"airline\": {\n",
    "          \"type\": \"string\",\n",
    "          \"description\": \"The airline the user would like to fly in e.g. Delta, United, American Airlines\"\n",
    "        },\n",
    "      },\n",
    "      \"required\": [\"departure_city\", \"arrival_city\", \"departure_date\"]\n",
    "    }\n",
    "  }\n",
    "]\n",
    "\n",
    "messages = [\n",
    "  {\"role\": \"system\", \"content\": \"You're a friendly flight booking assistant. You will be given a user query. Do your best to parse the user's request and respond accordingly. If the user hasn't given you enough information to make a function call, ask them for clarification\"}\n",
    "]"
   ],
   "metadata": {
    "collapsed": false,
    "ExecuteTime": {
     "end_time": "2023-11-10T15:17:05.039048300Z",
     "start_time": "2023-11-10T15:17:05.017507700Z"
    }
   },
   "id": "35330ac014336f89"
  },
  {
   "cell_type": "code",
   "execution_count": 34,
   "outputs": [],
   "source": [
    "def user_interaction(query: str): \n",
    "  messages.append({\"role\": \"user\", \"content\": query})\n",
    "  response = openai.chat.completions.create(\n",
    "    model=\"gpt-4-1106-preview\",\n",
    "    messages=messages,\n",
    "    functions=functions,\n",
    "    function_call=\"auto\"\n",
    "  )\n",
    "  reason = response.choices[0].finish_reason\n",
    "  if reason == \"function_call\":\n",
    "    # handle function call\n",
    "    return response.choices[0].message.function_call\n",
    "  else:\n",
    "    # return this output to user\n",
    "    return response.choices[0].message.content"
   ],
   "metadata": {
    "collapsed": false,
    "ExecuteTime": {
     "end_time": "2023-11-10T15:17:06.435083300Z",
     "start_time": "2023-11-10T15:17:06.428842900Z"
    }
   },
   "id": "89dfec24bbfd7a68"
  },
  {
   "cell_type": "code",
   "execution_count": 35,
   "outputs": [
    {
     "data": {
      "text/plain": "'Sure, I can help you with that. To proceed with the booking, I need some additional details:\\n\\n1. The date you would like to depart on.\\n2. Your preferred time of day to fly (morning, afternoon, or evening).\\n3. The class you would like to travel in (first class, business class, premium economy, or economy).\\n4. If you have a specific flight number in mind, please provide that as well.\\n\\nCould you provide these details, please?'"
     },
     "execution_count": 35,
     "metadata": {},
     "output_type": "execute_result"
    }
   ],
   "source": [
    "user_interaction(\"Hello, i'd like to book a flight from New York to Atlanta\")"
   ],
   "metadata": {
    "collapsed": false,
    "ExecuteTime": {
     "end_time": "2023-11-10T15:17:18.469986500Z",
     "start_time": "2023-11-10T15:17:12.560169Z"
    }
   },
   "id": "14152ca2c21337b2"
  },
  {
   "cell_type": "code",
   "execution_count": 36,
   "outputs": [],
   "source": [
    "call = user_interaction(\"I need a flight from london to paris\")"
   ],
   "metadata": {
    "collapsed": false,
    "ExecuteTime": {
     "end_time": "2023-11-10T15:17:56.893089Z",
     "start_time": "2023-11-10T15:17:53.147021800Z"
    }
   },
   "id": "65cec535fbd598f2"
  },
  {
   "cell_type": "code",
   "execution_count": 25,
   "outputs": [
    {
     "data": {
      "text/plain": "{'departure_city': 'LHR',\n 'arrival_city': 'CDG',\n 'departure_date': '2023-04-27',\n 'time_of_day': 'morning'}"
     },
     "execution_count": 25,
     "metadata": {},
     "output_type": "execute_result"
    }
   ],
   "source": [
    "args = json.loads(call.arguments)"
   ],
   "metadata": {
    "collapsed": false,
    "ExecuteTime": {
     "end_time": "2023-11-10T15:13:21.460142200Z",
     "start_time": "2023-11-10T15:13:21.454999400Z"
    }
   },
   "id": "8ff242646de69334"
  },
  {
   "cell_type": "code",
   "execution_count": 37,
   "outputs": [
    {
     "data": {
      "text/plain": "\"Sure, I'd be happy to help you book your flight from London to Paris. Could you please provide me with the following additional details?\\n\\n- Your preferred departure date\\n- The time of day you’d like to depart (morning, afternoon, or evening)\\n- Your cabin class preference (e.g., economy, business)\\n- If you have a specific flight number in mind\\n\\nWith this information, I can proceed to book your flight.\""
     },
     "execution_count": 37,
     "metadata": {},
     "output_type": "execute_result"
    }
   ],
   "source": [
    "call"
   ],
   "metadata": {
    "collapsed": false,
    "ExecuteTime": {
     "end_time": "2023-11-10T15:17:59.989651300Z",
     "start_time": "2023-11-10T15:17:59.982194400Z"
    }
   },
   "id": "ef66205da35dc121"
  },
  {
   "cell_type": "code",
   "execution_count": null,
   "outputs": [],
   "source": [],
   "metadata": {
    "collapsed": false
   },
   "id": "34aab5c11a460a1b"
  }
 ],
 "metadata": {
  "kernelspec": {
   "display_name": "Python 3",
   "language": "python",
   "name": "python3"
  },
  "language_info": {
   "codemirror_mode": {
    "name": "ipython",
    "version": 2
   },
   "file_extension": ".py",
   "mimetype": "text/x-python",
   "name": "python",
   "nbconvert_exporter": "python",
   "pygments_lexer": "ipython2",
   "version": "2.7.6"
  }
 },
 "nbformat": 4,
 "nbformat_minor": 5
}
