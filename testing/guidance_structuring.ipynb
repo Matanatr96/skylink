{
 "cells": [
  {
   "cell_type": "code",
   "execution_count": 92,
   "id": "initial_id",
   "metadata": {
    "collapsed": true,
    "ExecuteTime": {
     "end_time": "2023-11-09T18:36:01.328220500Z",
     "start_time": "2023-11-09T18:36:01.324074600Z"
    }
   },
   "outputs": [],
   "source": [
    "import os\n",
    "import guidance\n",
    "import requests \n",
    "import openai\n",
    "import json\n",
    "from enum import Enum\n",
    "from dotenv import load_dotenv\n",
    "from duffel_api import Duffel\n",
    "from duffel_api.http_client import Pagination\n",
    "from typing import Optional\n",
    "\n",
    "load_dotenv(\"../.env\")\n",
    "duffel = Duffel(access_token=os.getenv(\"DUFFEL_API_KEY\"))\n",
    "openai_api_key = os.getenv(\"OPENAI_API_KEY\")"
   ]
  },
  {
   "cell_type": "code",
   "execution_count": 99,
   "outputs": [],
   "source": [
    "class DuffelManager:\n",
    "    def __init__(self, api_client):\n",
    "        self.api_client = api_client\n",
    "\n",
    "    def call_duffel_api(self, departure_city: str, destination_city: str, departure_date: str, cabin_class: str = None) -> str:\n",
    "        slices = [{\"origin\": departure_city, \"destination\": destination_city, \"departure_date\": departure_date}]\n",
    "\n",
    "        try:\n",
    "            offer_request = self.api_client.offer_requests.create().slices(slices).passengers([{\"type\": \"adult\"}])\n",
    "            if cabin_class:\n",
    "                offer_request.cabin_class(cabin_class)\n",
    "            offer_request_response = offer_request.execute()\n",
    "            return offer_request_response.id\n",
    "        except Exception as e:\n",
    "            # Need better error handling and logging\n",
    "            raise\n",
    "\n",
    "    @staticmethod\n",
    "    def parse_offers(offers) -> list:\n",
    "        return [\n",
    "            {\n",
    "                \"id\": offer.id,\n",
    "                \"total_amount\": offer.total_amount,\n",
    "                \"airline_code\": offer.owner.iata_code,\n",
    "                \"airline_name\": offer.owner.name,\n",
    "                \"num_segments\": len(offer.slices), \n",
    "                \"departure_time\": offer.slices[0].segments[0].departing_at,\n",
    "                \"arrival_time\": offer.slices[-1].segments[-1].arriving_at,\n",
    "            }\n",
    "            for offer in offers\n",
    "        ]\n",
    "    \n",
    "    @staticmethod\n",
    "    def calculate_offer_score(offer, cost_weight, segments_weight, min_cost, max_segments):\n",
    "        def normalize_value(value, min_value, max_value):\n",
    "            if max_value - min_value == 0: return 0\n",
    "            return (value - min_value) / (max_value - min_value)\n",
    "        \n",
    "        normalized_cost = normalize_value(float(offer[\"total_amount\"]), min_cost, min_cost)\n",
    "        normalized_segments = normalize_value(offer[\"num_segments\"], 0, max_segments)\n",
    "        return (cost_weight * normalized_cost) + (segments_weight * normalized_segments)\n",
    "    \n",
    "    def get_best_offer(self, offers: list, airline: Optional[str] = None) -> Optional[dict]:\n",
    "        cost_weight = 0.7\n",
    "        segments_weight = 0.3\n",
    "    \n",
    "        airline_filtered = []\n",
    "        if airline is not None:\n",
    "            airline_filtered = [offer for offer in offers if offer[\"airline_code\"].upper() == airline.upper()]\n",
    "            print(f\"Num airlines after filtering {len(airline_filtered)}\")\n",
    "    \n",
    "        filtered_offers = offers if len(airline_filtered) == 0 else airline_filtered\n",
    "        min_cost = min(float(offer[\"total_amount\"]) for offer in filtered_offers)\n",
    "        max_segments = max(offer[\"num_segments\"] for offer in filtered_offers)\n",
    "    \n",
    "        best_offer = min(filtered_offers, key=lambda offer: self.calculate_offer_score(offer, cost_weight, segments_weight, min_cost, max_segments))\n",
    "        return best_offer\n",
    "\n",
    "    def get_offer(self, departure_city: str, destination_city: str, departure_date: str, airline: str = None, cabin_class: str = None) -> dict:\n",
    "        try:\n",
    "            offer_request_id = self.call_duffel_api(departure_city, destination_city, departure_date, cabin_class)\n",
    "            offers_object = self.api_client.offers.list(offer_request_id, sort=\"total_amount\")\n",
    "            offers = self.parse_offers(offers_object)\n",
    "            return self.get_best_offer(offers, airline=airline)\n",
    "        except Exception as e: # Need better error handling and logging\n",
    "            raise  \n"
   ],
   "metadata": {
    "collapsed": false,
    "ExecuteTime": {
     "end_time": "2023-11-09T18:48:02.316131700Z",
     "start_time": "2023-11-09T18:48:02.305683300Z"
    }
   },
   "id": "a542e7bdaeff2b52"
  },
  {
   "cell_type": "code",
   "execution_count": 100,
   "outputs": [],
   "source": [
    "caller = DuffelManager(duffel)"
   ],
   "metadata": {
    "collapsed": false,
    "ExecuteTime": {
     "end_time": "2023-11-09T18:48:02.770038200Z",
     "start_time": "2023-11-09T18:48:02.763526300Z"
    }
   },
   "id": "d1206318b77875f1"
  },
  {
   "cell_type": "code",
   "execution_count": 101,
   "outputs": [
    {
     "name": "stdout",
     "output_type": "stream",
     "text": [
      "0\n"
     ]
    },
    {
     "data": {
      "text/plain": "{'id': 'off_0000AbdfOPo6nEW20UCoUT',\n 'total_amount': '62.89',\n 'airline_code': 'NK',\n 'airline_name': 'Spirit Airlines',\n 'num_segments': 1,\n 'departure_time': datetime.datetime(2023, 12, 11, 22, 10),\n 'arrival_time': datetime.datetime(2023, 12, 12, 0, 44)}"
     },
     "execution_count": 101,
     "metadata": {},
     "output_type": "execute_result"
    }
   ],
   "source": [
    "caller.get_offer(\"NYC\", \"ATL\", \"2023-12-11\", airline=\"DL\")"
   ],
   "metadata": {
    "collapsed": false,
    "ExecuteTime": {
     "end_time": "2023-11-09T18:48:22.610558700Z",
     "start_time": "2023-11-09T18:48:03.481408600Z"
    }
   },
   "id": "910be3dfe5943d7b"
  },
  {
   "cell_type": "code",
   "execution_count": null,
   "outputs": [],
   "source": [],
   "metadata": {
    "collapsed": false
   },
   "id": "9480cf1ad201777e"
  },
  {
   "cell_type": "code",
   "execution_count": null,
   "outputs": [],
   "source": [],
   "metadata": {
    "collapsed": false
   },
   "id": "7ab9e26d3693abc2"
  },
  {
   "cell_type": "code",
   "execution_count": null,
   "outputs": [],
   "source": [],
   "metadata": {
    "collapsed": false
   },
   "id": "de934e56690e8f1d"
  },
  {
   "cell_type": "code",
   "execution_count": 85,
   "outputs": [
    {
     "data": {
      "text/plain": "datetime.datetime(2023, 12, 21, 15, 29)"
     },
     "execution_count": 85,
     "metadata": {},
     "output_type": "execute_result"
    }
   ],
   "source": [
    "test.slices[0].segments[0].departing_at"
   ],
   "metadata": {
    "collapsed": false,
    "ExecuteTime": {
     "end_time": "2023-11-09T18:27:25.914205400Z",
     "start_time": "2023-11-09T18:27:25.905713500Z"
    }
   },
   "id": "c61d00ab26693f3a"
  },
  {
   "cell_type": "code",
   "execution_count": null,
   "outputs": [],
   "source": [],
   "metadata": {
    "collapsed": false
   },
   "id": "5b3fc90b92eba41c"
  }
 ],
 "metadata": {
  "kernelspec": {
   "display_name": "Python 3",
   "language": "python",
   "name": "python3"
  },
  "language_info": {
   "codemirror_mode": {
    "name": "ipython",
    "version": 2
   },
   "file_extension": ".py",
   "mimetype": "text/x-python",
   "name": "python",
   "nbconvert_exporter": "python",
   "pygments_lexer": "ipython2",
   "version": "2.7.6"
  }
 },
 "nbformat": 4,
 "nbformat_minor": 5
}
