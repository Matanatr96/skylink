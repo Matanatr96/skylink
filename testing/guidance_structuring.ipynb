{
 "cells": [
  {
   "cell_type": "code",
   "execution_count": 1,
   "id": "initial_id",
   "metadata": {
    "collapsed": true,
    "ExecuteTime": {
     "end_time": "2023-11-10T17:45:21.842435200Z",
     "start_time": "2023-11-10T17:45:21.646257200Z"
    }
   },
   "outputs": [],
   "source": [
    "import os\n",
    "import logging\n",
    "from dotenv import load_dotenv\n",
    "from duffel_api import Duffel\n",
    "from typing import Optional, List\n",
    "from models import MyOffer, DuffelAPIError, DuffelAPIErrorData, SuccessResponse, ErrorResponse\n",
    "from datetime import datetime, time\n",
    "\n",
    "\n",
    "load_dotenv(\"../.env\")\n",
    "duffel = Duffel(access_token=os.getenv(\"DUFFEL_API_KEY\"))\n",
    "openai_api_key = os.getenv(\"OPENAI_API_KEY\")\n",
    "logging.basicConfig(level=logging.INFO, format='%(asctime)s - %(name)s - %(levelname)s - %(message)s')"
   ]
  },
  {
   "cell_type": "code",
   "execution_count": 2,
   "outputs": [],
   "source": [
    "class DuffelManager:\n",
    "    def __init__(self, api_client):\n",
    "        self.api_client = api_client\n",
    "\n",
    "    def call_duffel_api(self, departure_city: str, destination_city: str, departure_date: str, cabin_class: str = None) -> str:\n",
    "        logging.info(\"Calling Duffel API\")\n",
    "        slices = [{\"origin\": departure_city, \"destination\": destination_city, \"departure_date\": departure_date}]\n",
    "\n",
    "        try:\n",
    "            offer_request = self.api_client.offer_requests.create().slices(slices).passengers([{\"type\": \"adult\"}])\n",
    "            if cabin_class:\n",
    "                offer_request.cabin_class(cabin_class)\n",
    "            offer_request_response = offer_request.execute()\n",
    "            return offer_request_response.id\n",
    "        except Exception as e:\n",
    "            error_data = DuffelAPIErrorData(\n",
    "                departure_city=departure_city,\n",
    "                destination_city=destination_city,\n",
    "                departure_date=departure_date,\n",
    "                cabin_class=cabin_class or \"Not Specified\",\n",
    "                error_message=str(e)\n",
    "            )\n",
    "            raise DuffelAPIError(error_data) from e\n",
    "\n",
    "    @staticmethod\n",
    "    def parse_offers(offers) -> list:\n",
    "        return [\n",
    "            MyOffer(\n",
    "                id=raw_offer.id,\n",
    "                total_amount=raw_offer.total_amount,\n",
    "                airline_code=raw_offer.owner.iata_code,\n",
    "                airline_name=raw_offer.owner.name,\n",
    "                num_segments=len(raw_offer.slices[0].segments),\n",
    "                departure_time=raw_offer.slices[0].segments[0].departing_at,\n",
    "                arrival_time=raw_offer.slices[-1].segments[-1].arriving_at,\n",
    "                cabin_class=raw_offer.slices[0].segments[0].passengers[0].cabin_class,\n",
    "                offer=raw_offer,\n",
    "            )\n",
    "            for raw_offer in offers\n",
    "        ]\n",
    "    \n",
    "    @staticmethod\n",
    "    def calculate_offer_score(curr_offer, cost_weight, segments_weight, min_cost, max_segments):\n",
    "        def normalize_value(value, min_value, max_value):\n",
    "            if max_value - min_value == 0: return 0\n",
    "            return (value - min_value) / (max_value - min_value)\n",
    "        \n",
    "        normalized_cost = normalize_value(float(curr_offer.total_amount), min_cost, min_cost)\n",
    "        normalized_segments = normalize_value(curr_offer.num_segments, 0, max_segments)\n",
    "        return (cost_weight * normalized_cost) + (segments_weight * normalized_segments)\n",
    "    \n",
    "    @staticmethod\n",
    "    def is_time_of_day(departure_datetime: datetime, time_of_day: str) -> bool:\n",
    "        # Define time ranges\n",
    "        MORNING = (time(6, 0), time(12, 0))\n",
    "        AFTERNOON = (time(12, 0), time(18, 0))\n",
    "        EVENING = (time(18, 0), time(0, 0))\n",
    "        NIGHT = (time(0, 0), time(6, 0))\n",
    "    \n",
    "        departure_time = departure_datetime.time()\n",
    "    \n",
    "        # Check the time of day\n",
    "        if time_of_day.lower() == \"morning\":\n",
    "            return MORNING[0] <= departure_time < MORNING[1]\n",
    "        elif time_of_day.lower() == \"afternoon\":\n",
    "            return AFTERNOON[0] <= departure_time < AFTERNOON[1]\n",
    "        elif time_of_day.lower() == \"evening\":\n",
    "            return EVENING[0] <= departure_time or departure_time < NIGHT[1]\n",
    "        elif time_of_day.lower() == \"night\":\n",
    "            return NIGHT[0] <= departure_time or departure_time < MORNING[0]\n",
    "        else:\n",
    "            message = \"Invalid time_of_day value passed. Choose from 'morning', 'afternoon', 'evening', 'night'.\"\n",
    "            logging.warning(message)\n",
    "            raise ValueError(message)\n",
    "\n",
    "    \n",
    "    def get_best_offer(self, offers: List[MyOffer], airline_name: Optional[str] = None, time_of_day: Optional[str] = None) -> Optional[MyOffer]:\n",
    "        logging.info(f\"Getting best offer from {len(offers)} offers\")\n",
    "        cost_weight = 0.7\n",
    "        segments_weight = 0.3\n",
    "\n",
    "        airline_filtered = []\n",
    "        if airline_name:\n",
    "            logging.info(f\"Filtering for {airline_name} flights\")\n",
    "            airline_filtered = [offer for offer in offers if offer.airline_code.upper() == airline_name.upper()]\n",
    "            logging.info(f\"Num airlines after filtering {len(airline_filtered)}\")\n",
    "        filtered_offers = airline_filtered or offers\n",
    "        \n",
    "        tod_filtered = []\n",
    "        if time_of_day:\n",
    "            logging.info(f\"Filtering for {time_of_day} flights\")\n",
    "            tod_filtered = [offer for offer in filtered_offers if self.is_time_of_day(offer.departure_time, time_of_day)]\n",
    "            logging.info(f\"Num offers after filtering time of day: {len(tod_filtered)}\")\n",
    "        filtered_offers = tod_filtered or filtered_offers\n",
    "        \n",
    "        min_cost = min(float(offer.total_amount) for offer in filtered_offers)\n",
    "        max_segments = max(offer.num_segments for offer in filtered_offers)\n",
    "\n",
    "        return min(\n",
    "            filtered_offers,\n",
    "            key=lambda offer: self.calculate_offer_score(\n",
    "                offer, cost_weight, segments_weight, min_cost, max_segments\n",
    "            ),\n",
    "        )\n",
    "\n",
    "    def get_offer(self, departure_city: str, destination_city: str, departure_date: str, time_of_day: str = None, airline_name: str = None, cabin_class: str = None):\n",
    "        logging.info(\n",
    "            f\"Getting offer for departure_city: {departure_city}, destination_city: {destination_city}, departure_date: {departure_date}, time_of_day: {time_of_day}, airline: {airline_name}, cabin_class: {cabin_class}\")\n",
    "        try:\n",
    "            offer_request_id = self.call_duffel_api(departure_city, destination_city, departure_date, cabin_class)\n",
    "            offers_object = self.api_client.offers.list(offer_request_id, sort=\"total_amount\")\n",
    "            offers = self.parse_offers(offers_object)\n",
    "            best_offer = self.get_best_offer(offers, airline_name=airline_name, time_of_day=time_of_day)\n",
    "            logging.info(\"Returning best offer\")\n",
    "            return SuccessResponse(\n",
    "                success=True,\n",
    "                best_offer=best_offer,\n",
    "            )\n",
    "\n",
    "        except (ValueError, DuffelAPIError) as e:\n",
    "            logging.error(f\"Error in get_offer: {str(e)}\")\n",
    "            return ErrorResponse(\n",
    "                success=False,\n",
    "                message=str(e),\n",
    "            )\n",
    "        \n",
    "    def test_get_one_offer(self, departure_city: str, destination_city: str, departure_date: str, time_of_day: str = None, airline_name: str = None, cabin_class: str = None):\n",
    "        # testing function to get one offer\n",
    "        logging.info(\n",
    "            f\"Getting offer for departure_city: {departure_city}, destination_city: {destination_city}, departure_date: {departure_date}, time_of_day: {time_of_day}, airline: {airline_name}, cabin_class: {cabin_class}\")\n",
    "        offer_request_id = self.call_duffel_api(departure_city, destination_city, departure_date, cabin_class)\n",
    "        return self.api_client.offers.list(offer_request_id, sort=\"total_amount\")"
   ],
   "metadata": {
    "collapsed": false,
    "ExecuteTime": {
     "end_time": "2023-11-10T17:45:22.016345400Z",
     "start_time": "2023-11-10T17:45:22.005196300Z"
    }
   },
   "id": "a542e7bdaeff2b52"
  },
  {
   "cell_type": "code",
   "execution_count": 3,
   "outputs": [],
   "source": [
    "caller = DuffelManager(duffel)"
   ],
   "metadata": {
    "collapsed": false,
    "ExecuteTime": {
     "end_time": "2023-11-10T17:45:22.662465300Z",
     "start_time": "2023-11-10T17:45:22.654029700Z"
    }
   },
   "id": "d1206318b77875f1"
  },
  {
   "cell_type": "code",
   "execution_count": 4,
   "outputs": [
    {
     "name": "stderr",
     "output_type": "stream",
     "text": [
      "2023-11-10 12:45:24,702 - root - INFO - Getting offer for departure_city: NYC, destination_city: SFO, departure_date: 2023-12-11, time_of_day: morning, airline: AA, cabin_class: economy\n",
      "2023-11-10 12:45:24,703 - root - INFO - Calling Duffel API\n"
     ]
    },
    {
     "name": "stdout",
     "output_type": "stream",
     "text": [
      "{'id': 'sto_0000AbfeJowL3SCnlsc2Ur', 'duration': 'PT42M', 'departing_at': '2023-12-11T18:07:00', 'arriving_at': '2023-12-11T17:25:00', 'airport': {'type': 'airport', 'time_zone': 'America/Chicago', 'name': 'George Bush Intercontinental Airport', 'longitude': -95.339091, 'latitude': 29.987309, 'id': 'arp_iah_us', 'icao_code': 'KIAH', 'iata_country_code': 'US', 'iata_code': 'IAH', 'iata_city_code': 'HOU', 'city_name': 'Houston'}}\n",
      "{'id': 'sto_0000AbfeJowL3SCnlsc2Uj', 'duration': 'PT42M', 'departing_at': '2023-12-11T18:07:00', 'arriving_at': '2023-12-11T17:25:00', 'airport': {'type': 'airport', 'time_zone': 'America/Chicago', 'name': 'George Bush Intercontinental Airport', 'longitude': -95.339091, 'latitude': 29.987309, 'id': 'arp_iah_us', 'icao_code': 'KIAH', 'iata_country_code': 'US', 'iata_code': 'IAH', 'iata_city_code': 'HOU', 'city_name': 'Houston'}}\n",
      "{'id': 'sto_0000AbfeJodYBJB0pbp2Cz', 'duration': 'PT3H6M', 'departing_at': '2023-12-11T16:00:00', 'arriving_at': '2023-12-11T12:54:00', 'airport': {'type': 'airport', 'time_zone': 'America/Chicago', 'name': \"O'Hare International Airport\", 'longitude': -87.90606, 'latitude': 41.976381, 'id': 'arp_ord_us', 'icao_code': 'KORD', 'iata_country_code': 'US', 'iata_code': 'ORD', 'iata_city_code': 'CHI', 'city_name': 'Chicago'}}\n",
      "{'id': 'sto_0000AbfeJoc8Ga2glD9u0E', 'duration': 'PT3H24M', 'departing_at': '2023-12-11T15:57:00', 'arriving_at': '2023-12-11T12:33:00', 'airport': {'type': 'airport', 'time_zone': 'America/Denver', 'name': 'Denver International Airport', 'longitude': -104.673367, 'latitude': 39.858897, 'id': 'arp_den_us', 'icao_code': 'KDEN', 'iata_country_code': 'US', 'iata_code': 'DEN', 'iata_city_code': 'DEN', 'city_name': 'Denver'}}\n",
      "{'id': 'sto_0000AbfeJodCCctQoVeket', 'duration': 'PT3H6M', 'departing_at': '2023-12-11T16:00:00', 'arriving_at': '2023-12-11T12:54:00', 'airport': {'type': 'airport', 'time_zone': 'America/Chicago', 'name': \"O'Hare International Airport\", 'longitude': -87.90606, 'latitude': 41.976381, 'id': 'arp_ord_us', 'icao_code': 'KORD', 'iata_country_code': 'US', 'iata_code': 'ORD', 'iata_city_code': 'CHI', 'city_name': 'Chicago'}}\n",
      "{'id': 'sto_0000AbfeJoc8Ga2glD9u06', 'duration': 'PT3H24M', 'departing_at': '2023-12-11T15:57:00', 'arriving_at': '2023-12-11T12:33:00', 'airport': {'type': 'airport', 'time_zone': 'America/Denver', 'name': 'Denver International Airport', 'longitude': -104.673367, 'latitude': 39.858897, 'id': 'arp_den_us', 'icao_code': 'KDEN', 'iata_country_code': 'US', 'iata_code': 'DEN', 'iata_city_code': 'DEN', 'city_name': 'Denver'}}\n"
     ]
    },
    {
     "name": "stderr",
     "output_type": "stream",
     "text": [
      "2023-11-10 12:45:44,465 - root - INFO - Getting best offer from 333 offers\n",
      "2023-11-10 12:45:44,466 - root - INFO - Filtering for AA flights\n",
      "2023-11-10 12:45:44,466 - root - INFO - Num airlines after filtering 1\n",
      "2023-11-10 12:45:44,467 - root - INFO - Filtering for morning flights\n",
      "2023-11-10 12:45:44,467 - root - INFO - Num offers after filtering time of day: 1\n",
      "2023-11-10 12:45:44,467 - root - INFO - Returning best offer\n"
     ]
    }
   ],
   "source": [
    "best_offer_here = caller.get_offer(\"NYC\", \"SFO\", \"2023-12-11\", airline_name=\"AA\", time_of_day=\"morning\", cabin_class=\"economy\")"
   ],
   "metadata": {
    "collapsed": false,
    "ExecuteTime": {
     "end_time": "2023-11-10T17:45:44.474820700Z",
     "start_time": "2023-11-10T17:45:24.702793100Z"
    }
   },
   "id": "910be3dfe5943d7b"
  },
  {
   "cell_type": "code",
   "execution_count": null,
   "outputs": [],
   "source": [],
   "metadata": {
    "collapsed": false
   },
   "id": "7ab9e26d3693abc2"
  },
  {
   "cell_type": "code",
   "execution_count": 5,
   "outputs": [
    {
     "name": "stderr",
     "output_type": "stream",
     "text": [
      "2023-11-10 12:16:21,717 - root - INFO - Getting offer for departure_city: NYC, destination_city: SFO, departure_date: 2023-12-11, time_of_day: morning, airline: AA, cabin_class: None\n",
      "2023-11-10 12:16:21,717 - root - INFO - Calling Duffel API\n"
     ]
    }
   ],
   "source": [
    "offer_test = caller.test_get_one_offer(\"NYC\", \"SFO\", \"2023-12-11\", airline_name=\"AA\", time_of_day=\"morning\")"
   ],
   "metadata": {
    "collapsed": false,
    "ExecuteTime": {
     "end_time": "2023-11-10T17:16:40.176935300Z",
     "start_time": "2023-11-10T17:16:21.717449800Z"
    }
   },
   "id": "de934e56690e8f1d"
  },
  {
   "cell_type": "code",
   "execution_count": 6,
   "outputs": [
    {
     "name": "stdout",
     "output_type": "stream",
     "text": [
      "{'id': 'sto_0000Abfbj3pCRgS57PQuP2', 'duration': 'PT42M', 'departing_at': '2023-12-11T18:07:00', 'arriving_at': '2023-12-11T17:25:00', 'airport': {'type': 'airport', 'time_zone': 'America/Chicago', 'name': 'George Bush Intercontinental Airport', 'longitude': -95.339091, 'latitude': 29.987309, 'id': 'arp_iah_us', 'icao_code': 'KIAH', 'iata_country_code': 'US', 'iata_code': 'IAH', 'iata_city_code': 'HOU', 'city_name': 'Houston'}}\n",
      "{'id': 'sto_0000Abfbj3oqT0AV6JGcr9', 'duration': 'PT42M', 'departing_at': '2023-12-11T18:07:00', 'arriving_at': '2023-12-11T17:25:00', 'airport': {'type': 'airport', 'time_zone': 'America/Chicago', 'name': 'George Bush Intercontinental Airport', 'longitude': -95.339091, 'latitude': 29.987309, 'id': 'arp_iah_us', 'icao_code': 'KIAH', 'iata_country_code': 'US', 'iata_code': 'IAH', 'iata_city_code': 'HOU', 'city_name': 'Houston'}}\n",
      "{'id': 'sto_0000Abfbj3S9pM1JxweVUJ', 'duration': 'PT3H6M', 'departing_at': '2023-12-11T16:00:00', 'arriving_at': '2023-12-11T12:54:00', 'airport': {'type': 'airport', 'time_zone': 'America/Chicago', 'name': \"O'Hare International Airport\", 'longitude': -87.90606, 'latitude': 41.976381, 'id': 'arp_ord_us', 'icao_code': 'KORD', 'iata_country_code': 'US', 'iata_code': 'ORD', 'iata_city_code': 'CHI', 'city_name': 'Chicago'}}\n",
      "{'id': 'sto_0000Abfbj3R5tJAZue9epe', 'duration': 'PT3H24M', 'departing_at': '2023-12-11T15:57:00', 'arriving_at': '2023-12-11T12:33:00', 'airport': {'type': 'airport', 'time_zone': 'America/Denver', 'name': 'Denver International Airport', 'longitude': -104.673367, 'latitude': 39.858897, 'id': 'arp_den_us', 'icao_code': 'KDEN', 'iata_country_code': 'US', 'iata_code': 'DEN', 'iata_city_code': 'DEN', 'city_name': 'Denver'}}\n",
      "{'id': 'sto_0000Abfbj3S9pM1JxweVUB', 'duration': 'PT3H6M', 'departing_at': '2023-12-11T16:00:00', 'arriving_at': '2023-12-11T12:54:00', 'airport': {'type': 'airport', 'time_zone': 'America/Chicago', 'name': \"O'Hare International Airport\", 'longitude': -87.90606, 'latitude': 41.976381, 'id': 'arp_ord_us', 'icao_code': 'KORD', 'iata_country_code': 'US', 'iata_code': 'ORD', 'iata_city_code': 'CHI', 'city_name': 'Chicago'}}\n",
      "{'id': 'sto_0000Abfbj3R5tJAZue9epW', 'duration': 'PT3H24M', 'departing_at': '2023-12-11T15:57:00', 'arriving_at': '2023-12-11T12:33:00', 'airport': {'type': 'airport', 'time_zone': 'America/Denver', 'name': 'Denver International Airport', 'longitude': -104.673367, 'latitude': 39.858897, 'id': 'arp_den_us', 'icao_code': 'KDEN', 'iata_country_code': 'US', 'iata_code': 'DEN', 'iata_city_code': 'DEN', 'city_name': 'Denver'}}\n"
     ]
    }
   ],
   "source": [
    "mine = None\n",
    "for offer in offer_test: \n",
    "    mine = offer"
   ],
   "metadata": {
    "collapsed": false,
    "ExecuteTime": {
     "end_time": "2023-11-10T17:16:41.407849800Z",
     "start_time": "2023-11-10T17:16:40.177930200Z"
    }
   },
   "id": "5b3fc90b92eba41c"
  },
  {
   "cell_type": "code",
   "execution_count": 6,
   "outputs": [
    {
     "data": {
      "text/plain": "Offer(id='off_0000AbfaaGOdNcRvcdCO6X', live_mode=False, allowed_passenger_identity_document_types=['passport', 'tax_id', 'known_traveler_number', 'passenger_redress_number'], available_services=[], base_amount='1688.37', base_currency='USD', conditions=OfferConditions(change_before_departure=None, refund_before_departure=None), created_at=datetime.datetime(2023, 11, 10, 17, 3, 37, 110007), updated_at=datetime.datetime(2023, 11, 10, 17, 3, 37, 110007), expires_at=datetime.datetime(2023, 11, 10, 18, 3, 36, 956801), owner=Airline(id='arl_00009VME7DAch01WpssCcN', name='Alaska Airlines', iata_code='AS'), partial=False, passenger_identity_documents_required=False, passengers=[OfferPassenger(id='pas_0000AbfaaA5cpNgA3wG7dq', age=None, type='adult', given_name=None, family_name=None, loyalty_programme_accounts=[])], payment_requirements=PaymentRequirements(payment_required_by=datetime.datetime(2023, 11, 14, 4, 59), price_guarantee_expires_at=datetime.datetime(2023, 11, 13, 23, 59), requires_instant_payment=False), slices=[OfferSlice(id='sli_0000AbfaaGOdNcRvcdCO6T', destination=Place(id='arp_sfo_us', name='San Francisco International Airport', type='airport', iata_city_code='SFO', iata_country_code='US', latitude=37.620156, longitude=-122.376977, icao_code='KSFO', time_zone='America/Los_Angeles', city_name='San Francisco', city=None, airports=None), destination_terminal=None, origin=Place(id='arp_lga_us', name='LaGuardia Airport', type='airport', iata_city_code='NYC', iata_country_code='US', latitude=40.777062, longitude=-73.873281, icao_code='KLGA', time_zone='America/New_York', city_name='New York', city=City(id='cit_nyc_us', name='New York', iata_code='NYC', iata_country_code='US'), airports=None), origin_terminal=None, duration='PT10H44M', fare_brand_name='REFUNDable Main', segments=[OfferSliceSegment(id='seg_0000AbfaaGOHOwALbX26Z5', aircraft=Aircraft(id='arc_00009VMF8AgpV5sdO0xXAn', iata_code='319', name='Airbus A319'), arriving_at=datetime.datetime(2023, 12, 11, 11, 36), departing_at=datetime.datetime(2023, 12, 11, 9, 50), destination=Airport(id='arp_ord_us', name=\"O'Hare International Airport\", iata_code='ORD', icao_code='KORD', iata_country_code='US', latitude=41.976381, longitude=-87.90606, time_zone='America/Chicago', city=City(id='cit_chi_us', name='Chicago', iata_code='CHI', iata_country_code='US')), destination_terminal=None, origin=Airport(id='arp_lga_us', name='LaGuardia Airport', iata_code='LGA', icao_code='KLGA', iata_country_code='US', latitude=40.777062, longitude=-73.873281, time_zone='America/New_York', city=City(id='cit_nyc_us', name='New York', iata_code='NYC', iata_country_code='US')), origin_terminal=None, distance=None, duration='PT2H46M', marketing_carrier=Airline(id='arl_00009VME7DAch01WpssCcN', name='Alaska Airlines', iata_code='AS'), marketing_carrier_flight_number='6646', operating_carrier=Airline(id='arl_00009VME7DAGiJjwomhv32', name='American Airlines', iata_code='AA'), operating_carrier_flight_number=None, passengers=[OfferSliceSegmentPassenger(baggages=[OfferSliceSegmentPassengerBaggage(type='checked', quantity=0)], cabin_class='economy', cabin_class_marketing_name='Economy', passenger_id='pas_0000AbfaaA5cpNgA3wG7dq', fare_basis_code=None)], stops=[]), OfferSliceSegment(id='seg_0000AbfaaGOHOwALbX26Z8', aircraft=Aircraft(id='arc_00009oBdrPis4D1mAnkllc', iata_code='7M9', name='Boeing 737 MAX 9 / BBJ MAX 9'), arriving_at=datetime.datetime(2023, 12, 11, 17, 34), departing_at=datetime.datetime(2023, 12, 11, 14, 34), destination=Airport(id='arp_sfo_us', name='San Francisco International Airport', iata_code='SFO', icao_code='KSFO', iata_country_code='US', latitude=37.620156, longitude=-122.376977, time_zone='America/Los_Angeles', city=None), destination_terminal=None, origin=Airport(id='arp_ord_us', name=\"O'Hare International Airport\", iata_code='ORD', icao_code='KORD', iata_country_code='US', latitude=41.976381, longitude=-87.90606, time_zone='America/Chicago', city=City(id='cit_chi_us', name='Chicago', iata_code='CHI', iata_country_code='US')), origin_terminal=None, distance=None, duration='PT5H', marketing_carrier=Airline(id='arl_00009VME7DAch01WpssCcN', name='Alaska Airlines', iata_code='AS'), marketing_carrier_flight_number='331', operating_carrier=Airline(id='arl_00009VME7DAch01WpssCcN', name='Alaska Airlines', iata_code='AS'), operating_carrier_flight_number='331', passengers=[OfferSliceSegmentPassenger(baggages=[OfferSliceSegmentPassengerBaggage(type='checked', quantity=0)], cabin_class='economy', cabin_class_marketing_name='Economy', passenger_id='pas_0000AbfaaA5cpNgA3wG7dq', fare_basis_code=None)], stops=[])], conditions=OfferSliceConditions(change_before_departure=None))], tax_amount='150.83', tax_currency='USD', total_emissions_kg='221', total_amount='1839.20', total_currency='USD')"
     },
     "execution_count": 6,
     "metadata": {},
     "output_type": "execute_result"
    }
   ],
   "source": [
    "mine"
   ],
   "metadata": {
    "collapsed": false,
    "ExecuteTime": {
     "end_time": "2023-11-10T17:04:14.837221700Z",
     "start_time": "2023-11-10T17:04:14.822294900Z"
    }
   },
   "id": "bf306f7ee541a62f"
  },
  {
   "cell_type": "code",
   "execution_count": null,
   "outputs": [],
   "source": [],
   "metadata": {
    "collapsed": false
   },
   "id": "99cf065a508aced5"
  }
 ],
 "metadata": {
  "kernelspec": {
   "display_name": "Python 3",
   "language": "python",
   "name": "python3"
  },
  "language_info": {
   "codemirror_mode": {
    "name": "ipython",
    "version": 2
   },
   "file_extension": ".py",
   "mimetype": "text/x-python",
   "name": "python",
   "nbconvert_exporter": "python",
   "pygments_lexer": "ipython2",
   "version": "2.7.6"
  }
 },
 "nbformat": 4,
 "nbformat_minor": 5
}
